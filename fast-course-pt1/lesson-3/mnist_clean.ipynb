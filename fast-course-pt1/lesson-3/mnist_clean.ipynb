{
 "cells": [
  {
   "cell_type": "code",
   "execution_count": 1,
   "metadata": {},
   "outputs": [],
   "source": [
    "import torch\n",
    "from torch import nn\n",
    "from fastai.torch_core import tensor, show_image\n",
    "from fastai.data.core import DataLoader\n",
    "from PIL import Image\n"
   ]
  },
  {
   "cell_type": "code",
   "execution_count": 2,
   "metadata": {},
   "outputs": [],
   "source": [
    "from fastai.data.external import untar_data, URLs\n",
    "\n",
    "path = untar_data(URLs.MNIST_SAMPLE)\n",
    "\n",
    "def load_mnist(path):\n",
    "    tens_stack = torch.stack([tensor(Image.open(o)) for o in path.ls()])\n",
    "    return tens_stack.float()/255\n",
    "\n",
    "# cubes ([num_images, 28, 28])\n",
    "train_3_tens = load_mnist(path/'train'/'3')\n",
    "train_7_tens = load_mnist(path/'train'/'7')\n",
    "\n",
    "# matrices ([num_images, num_pixels_per_image])\n",
    "train_x = torch.cat([train_3_tens, train_7_tens]).view(-1, 28*28)\n",
    "train_y = tensor([1]*len(train_3_tens) + [0]*len(train_7_tens)).unsqueeze(1)\n",
    "train_dset = list(zip(train_x, train_y))\n",
    "train_dl = DataLoader(train_dset, batch_size=256)\n",
    "\n",
    "valid_3_tens = load_mnist(path/'valid'/'3')\n",
    "valid_7_tens = load_mnist(path/'valid'/'7')\n",
    "\n",
    "valid_x = torch.cat([valid_3_tens, valid_7_tens]).view(-1, 28*28)\n",
    "valid_y = tensor([1]*len(valid_3_tens) + [0]*len(valid_7_tens)).unsqueeze(1)\n",
    "valid_dset = list(zip(valid_x, valid_y))\n",
    "valid_dl = DataLoader(valid_dset, batch_size=256)\n"
   ]
  },
  {
   "cell_type": "code",
   "execution_count": 3,
   "metadata": {},
   "outputs": [],
   "source": [
    "# Common functions\n",
    "\n",
    "lr = 1e-1\n",
    "\n",
    "def mnist_loss(predictions, targets):\n",
    "    predictions = predictions.sigmoid()\n",
    "    return torch.where(targets==1, 1-predictions, predictions).mean()\n",
    "\n",
    "def calc_grad(xb, yb, model):\n",
    "    preds = model(xb)\n",
    "    loss = mnist_loss(preds, yb)\n",
    "    loss.backward()\n",
    "\n",
    "def batch_accuracy(xb_preds, yb):\n",
    "    xb_preds_norm = xb_preds.sigmoid()\n",
    "    correct_vec = (xb_preds_norm>0.5) == yb\n",
    "    return correct_vec.float().mean()\n",
    "\n",
    "def validate_epoch(model):\n",
    "    accs = [batch_accuracy(model(xb), yb) for xb,yb in valid_dl]\n",
    "    return round(torch.stack(accs).mean().item(), 4)\n"
   ]
  },
  {
   "cell_type": "code",
   "execution_count": 4,
   "metadata": {},
   "outputs": [
    {
     "name": "stdout",
     "output_type": "stream",
     "text": [
      "0.4883 0.5381 0.8701 0.9355 0.9536 0.9624 0.9633 0.9653 0.9657 0.9662 0.9677 0.9687 0.9701 0.9701 0.9701 0.9711 0.9716 0.9716 0.9716 0.9716 0.9721 "
     ]
    }
   ],
   "source": [
    "# Simple linear model\n",
    "\n",
    "def init_values(size, std=1.0):\n",
    "    return (torch.randn(size) * std).requires_grad_()\n",
    "\n",
    "# def init_params():\n",
    "#     torch.manual_seed(42)\n",
    "#     weights = init_values((28 * 28, 1))\n",
    "#     bias = init_values(1)\n",
    "#     return weights, bias\n",
    "\n",
    "def init_params():\n",
    "    torch.manual_seed(42)\n",
    "    linear_model = nn.Linear(28*28,1)\n",
    "    weights, bias = linear_model.parameters()\n",
    "    weights = weights.data.T.requires_grad_()  # Transpose to match our weights\n",
    "    return weights, bias\n",
    "\n",
    "\n",
    "params = init_params()\n",
    "weights, bias = params\n",
    "\n",
    "def linear1(xb):\n",
    "    return xb @ weights + bias\n",
    "\n",
    "def train_epoch(model, lr, params):\n",
    "    for xb, yb in train_dl:\n",
    "        calc_grad(xb, yb, model)\n",
    "        for p in params:\n",
    "            with torch.no_grad():\n",
    "                p -= p.grad * lr\n",
    "            p.grad.zero_()\n",
    "\n",
    "\n",
    "print(validate_epoch(linear1), end=' ')\n",
    "\n",
    "for i in range(20):\n",
    "    train_epoch(linear1, lr, params)\n",
    "    print(validate_epoch(linear1), end=' ')\n"
   ]
  },
  {
   "cell_type": "code",
   "execution_count": 5,
   "metadata": {},
   "outputs": [
    {
     "name": "stdout",
     "output_type": "stream",
     "text": [
      "0.4883 0.5381 0.8701 0.9355 0.9536 0.9624 0.9633 0.9653 0.9657 0.9662 0.9677 0.9687 0.9701 0.9701 0.9701 0.9711 0.9716 0.9716 0.9716 0.9716 0.9721 "
     ]
    }
   ],
   "source": [
    "# organizing the code into a class, using pytorch's nn.Linear\n",
    "\n",
    "torch.manual_seed(42)\n",
    "linear_model = nn.Linear(28*28,1)\n",
    "# w,b = linear_model.parameters()\n",
    "# w.shape, b.shape # note that w.shape is transposed from our previous weights\n",
    "\n",
    "class BasicOptim:\n",
    "    def __init__(self, params, lr):\n",
    "        self.params, self.lr = list(params), lr\n",
    "\n",
    "    def step(self, *args, **kwargs):\n",
    "        for p in self.params:\n",
    "            with torch.no_grad(): p -= p.grad * self.lr\n",
    "\n",
    "    def zero_grad(self, *args, **kwargs):\n",
    "        for p in self.params:\n",
    "            p.grad = None\n",
    "\n",
    "opt = BasicOptim(linear_model.parameters(), lr)\n",
    "\n",
    "def train_epoch(model):\n",
    "    for xb, yb in train_dl:\n",
    "        calc_grad(xb, yb, model)\n",
    "        opt.step()\n",
    "        opt.zero_grad()\n",
    "\n",
    "def train_model(model, epochs):\n",
    "    for i in range(epochs):\n",
    "        train_epoch(model)\n",
    "        print(validate_epoch(model), end=' ')\n",
    "\n",
    "print(validate_epoch(linear_model), end=' ')\n",
    "train_model(linear_model, 20)\n"
   ]
  },
  {
   "cell_type": "code",
   "execution_count": 6,
   "metadata": {},
   "outputs": [
    {
     "name": "stdout",
     "output_type": "stream",
     "text": [
      "0.5381 0.8701 0.9355 0.9536 0.9624 0.9633 0.9653 0.9657 0.9662 0.9677 0.9687 0.9701 0.9701 0.9701 0.9711 0.9716 0.9716 0.9716 0.9716 0.9721 "
     ]
    }
   ],
   "source": [
    "# using FastAI SGD optimizer\n",
    "\n",
    "from fastai.optimizer import SGD\n",
    "\n",
    "torch.manual_seed(42)\n",
    "linear_model = nn.Linear(28*28,1)\n",
    "opt = SGD(linear_model.parameters(), lr)\n",
    "train_model(linear_model, 20)\n"
   ]
  },
  {
   "cell_type": "code",
   "execution_count": 7,
   "metadata": {},
   "outputs": [
    {
     "name": "stdout",
     "output_type": "stream",
     "text": [
      "[0, 0.21936795115470886, 0.37446120381355286, 0.535819411277771, '00:00']\n",
      "[1, 0.12186863273382187, 0.1839294731616974, 0.8694798946380615, '00:00']\n",
      "[2, 0.08387057483196259, 0.10773518681526184, 0.9352306127548218, '00:00']\n",
      "[3, 0.06579937040805817, 0.08047893643379211, 0.9533856511116028, '00:00']\n",
      "[4, 0.056017082184553146, 0.06728839129209518, 0.9622178673744202, '00:00']\n",
      "[5, 0.05008033663034439, 0.05954936519265175, 0.9631991982460022, '00:00']\n",
      "[6, 0.04609556123614311, 0.054435040801763535, 0.965161919593811, '00:00']\n",
      "[7, 0.04319141060113907, 0.050777893513441086, 0.965652585029602, '00:00']\n",
      "[8, 0.0409393385052681, 0.04801366850733757, 0.9661432504653931, '00:00']\n",
      "[9, 0.039113402366638184, 0.045837342739105225, 0.9676153063774109, '00:00']\n",
      "[10, 0.03758550062775612, 0.04406966641545296, 0.9685966372489929, '00:00']\n",
      "[11, 0.03627751022577286, 0.04259826987981796, 0.9700686931610107, '00:00']\n",
      "[12, 0.03513861820101738, 0.04134904965758324, 0.9700686931610107, '00:00']\n",
      "[13, 0.03413384407758713, 0.04027105122804642, 0.9700686931610107, '00:00']\n",
      "[14, 0.033238012343645096, 0.039328064769506454, 0.9710500240325928, '00:00']\n",
      "[15, 0.032432373613119125, 0.038493603467941284, 0.9715407490730286, '00:00']\n",
      "[16, 0.03170252963900566, 0.03774784132838249, 0.9715407490730286, '00:00']\n",
      "[17, 0.031037192791700363, 0.037075627595186234, 0.9715407490730286, '00:00']\n",
      "[18, 0.030427351593971252, 0.03646516427397728, 0.9715407490730286, '00:00']\n",
      "[19, 0.029865687713027, 0.03590715304017067, 0.9720314145088196, '00:00']\n"
     ]
    }
   ],
   "source": [
    "from fastai.data.core import DataLoaders\n",
    "from fastai.learner import Learner\n",
    "\n",
    "dls = DataLoaders(train_dl, valid_dl)\n",
    "\n",
    "torch.manual_seed(42)\n",
    "linear_model = nn.Linear(28*28,1)\n",
    "\n",
    "learn = Learner(dls, linear_model, opt_func=SGD,\n",
    "                loss_func=mnist_loss, metrics=batch_accuracy)\n",
    "learn.fit(20, lr=lr)\n"
   ]
  },
  {
   "cell_type": "code",
   "execution_count": 8,
   "metadata": {},
   "outputs": [
    {
     "name": "stdout",
     "output_type": "stream",
     "text": [
      "[0, 0.3197889029979706, 0.4182792603969574, 0.5053974390029907, '00:00']\n",
      "[1, 0.14841419458389282, 0.2274690866470337, 0.8052011728286743, '00:00']\n",
      "[2, 0.0815204307436943, 0.1128200814127922, 0.9131501317024231, '00:00']\n",
      "[3, 0.05346754938364029, 0.07624328136444092, 0.9421001076698303, '00:00']\n",
      "[4, 0.040718965232372284, 0.05978688597679138, 0.9582924246788025, '00:00']\n",
      "[5, 0.034244831651449203, 0.050636038184165955, 0.964180588722229, '00:00']\n",
      "[6, 0.030499888584017754, 0.044910505414009094, 0.965652585029602, '00:00']\n",
      "[7, 0.028036151081323624, 0.04100186377763748, 0.965652585029602, '00:00']\n",
      "[8, 0.026237852871418, 0.038138266652822495, 0.9681059718132019, '00:00']\n",
      "[9, 0.024828562512993813, 0.03592786565423012, 0.9695780277252197, '00:00']\n",
      "[10, 0.023673243820667267, 0.034153398126363754, 0.9710500240325928, '00:00']\n",
      "[11, 0.022700075060129166, 0.032684773206710815, 0.9725220799446106, '00:00']\n",
      "[12, 0.021865397691726685, 0.03143933042883873, 0.9744848012924194, '00:00']\n",
      "[13, 0.02113986574113369, 0.0303636584430933, 0.9749754667282104, '00:00']\n",
      "[14, 0.020503126084804535, 0.029420355334877968, 0.9744848012924194, '00:00']\n",
      "[15, 0.019938992336392403, 0.028583569452166557, 0.9754661321640015, '00:00']\n",
      "[16, 0.01943471096456051, 0.027834871783852577, 0.9769381880760193, '00:00']\n",
      "[17, 0.018980445340275764, 0.027159908786416054, 0.9779195189476013, '00:00']\n",
      "[18, 0.01856796070933342, 0.02654944732785225, 0.9779195189476013, '00:00']\n",
      "[19, 0.018191413953900337, 0.02599460631608963, 0.9784101843833923, '00:00']\n",
      "[20, 0.017845721915364265, 0.025489352643489838, 0.9784101843833923, '00:00']\n",
      "[21, 0.01752689853310585, 0.025027962401509285, 0.9789009094238281, '00:00']\n",
      "[22, 0.017231646925210953, 0.024605659767985344, 0.9798822402954102, '00:00']\n",
      "[23, 0.016956975683569908, 0.02421819232404232, 0.9798822402954102, '00:00']\n",
      "[24, 0.016701027750968933, 0.023861953988671303, 0.9803729057312012, '00:00']\n",
      "[25, 0.016461987048387527, 0.02353348396718502, 0.9803729057312012, '00:00']\n",
      "[26, 0.016237866133451462, 0.023229891434311867, 0.9808635711669922, '00:00']\n",
      "[27, 0.01602744683623314, 0.02294827625155449, 0.9808635711669922, '00:00']\n",
      "[28, 0.01582934893667698, 0.022686339914798737, 0.981354296207428, '00:00']\n",
      "[29, 0.015642445534467697, 0.022441847249865532, 0.981844961643219, '00:00']\n",
      "[30, 0.015465743839740753, 0.022212957963347435, 0.981844961643219, '00:00']\n",
      "[31, 0.01529837865382433, 0.021998224779963493, 0.981844961643219, '00:00']\n",
      "[32, 0.015139628201723099, 0.021796008571982384, 0.981844961643219, '00:00']\n",
      "[33, 0.014988606795668602, 0.021605132147669792, 0.981844961643219, '00:00']\n",
      "[34, 0.014844872057437897, 0.0214244332164526, 0.981844961643219, '00:00']\n",
      "[35, 0.014707764610648155, 0.021252892911434174, 0.981844961643219, '00:00']\n",
      "[36, 0.014576617628335953, 0.021089695394039154, 0.981844961643219, '00:00']\n",
      "[37, 0.014451169408857822, 0.02093399502336979, 0.981844961643219, '00:00']\n",
      "[38, 0.01433079969137907, 0.020785177126526833, 0.981844961643219, '00:00']\n",
      "[39, 0.014215027913451195, 0.020642725750803947, 0.981844961643219, '00:00']\n"
     ]
    }
   ],
   "source": [
    "# with nonlinearity (ReLU)\n",
    "simple_net = nn.Sequential(\n",
    "  nn.Linear(28*28,30),\n",
    "  nn.ReLU(),\n",
    "  nn.Linear(30,1)\n",
    ")\n",
    "list(simple_net.parameters())\n",
    "\n",
    "# As this is a deeper model, we'll use a lower learning rate and a more epoch\n",
    "learn = Learner(dls, simple_net, opt_func=SGD,\n",
    "                loss_func=mnist_loss, metrics=batch_accuracy)\n",
    "learn.fit(40, lr=1e-1)\n"
   ]
  },
  {
   "cell_type": "code",
   "execution_count": 9,
   "metadata": {},
   "outputs": [
    {
     "name": "stdout",
     "output_type": "stream",
     "text": [
      "final accuracy 0.9818\n"
     ]
    },
    {
     "data": {
      "image/png": "[encoded data removed]",
      "text/plain": [
       "<Figure size 640x480 with 1 Axes>"
      ]
     },
     "metadata": {},
     "output_type": "display_data"
    }
   ],
   "source": [
    "from matplotlib import pyplot as plt\n",
    "from fastcore.foundation import L\n",
    "\n",
    "plt.plot(L(learn.recorder.values).itemgot(2));\n",
    "print(f'final accuracy {learn.recorder.values[-1][2]:.4f}')\n"
   ]
  },
  {
   "cell_type": "code",
   "execution_count": null,
   "metadata": {},
   "outputs": [],
   "source": [
    "# doesn't work but supposedly yields accuracy near 100%\n",
    "\n",
    "from fastai.vision.data import ImageDataLoaders\n",
    "from fastai.vision.learner import vision_learner\n",
    "from fastai.vision.models import resnet18\n",
    "import torch.nn.functional as F\n",
    "\n",
    "dls = ImageDataLoaders.from_folder(path)\n",
    "learn = vision_learner(dls, resnet18, pretrained=False,\n",
    "                    loss_func=F.cross_entropy, metrics=batch_accuracy)\n",
    "# learn.fit_one_cycle(1, 0.1) # this doesn't work\n",
    "learn.fit(1, 0.1)"
   ]
  },
  {
   "cell_type": "markdown",
   "metadata": {},
   "source": []
  },
  {
   "cell_type": "code",
   "execution_count": null,
   "metadata": {},
   "outputs": [],
   "source": []
  }
 ],
 "metadata": {
  "kernelspec": {
   "display_name": "Python 3 (ipykernel)",
   "language": "python",
   "name": "python3"
  },
  "language_info": {
   "codemirror_mode": {
    "name": "ipython",
    "version": 3
   },
   "file_extension": ".py",
   "mimetype": "text/x-python",
   "name": "python",
   "nbconvert_exporter": "python",
   "pygments_lexer": "ipython3",
   "version": "3.11.0"
  }
 },
 "nbformat": 4,
 "nbformat_minor": 2
}
