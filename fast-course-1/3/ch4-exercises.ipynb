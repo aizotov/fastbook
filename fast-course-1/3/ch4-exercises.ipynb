{
 "cells": [
  {
   "cell_type": "code",
   "execution_count": 80,
   "id": "3047b97d",
   "metadata": {},
   "outputs": [],
   "source": [
    "from fastai.data.external import untar_data, URLs\n",
    "\n",
    "path = untar_data(URLs.MNIST_SAMPLE)\n"
   ]
  },
  {
   "cell_type": "code",
   "execution_count": 81,
   "id": "c08a771c",
   "metadata": {},
   "outputs": [],
   "source": [
    "from fastcore.xtras import Path\n",
    "\n",
    "Path.BASE_PATH = path\n"
   ]
  },
  {
   "cell_type": "code",
   "execution_count": 82,
   "id": "82cc9aed",
   "metadata": {},
   "outputs": [
    {
     "data": {
      "text/plain": [
       "(#3) [Path('valid'),Path('labels.csv'),Path('train')]"
      ]
     },
     "execution_count": 82,
     "metadata": {},
     "output_type": "execute_result"
    }
   ],
   "source": [
    "path.ls()\n"
   ]
  },
  {
   "cell_type": "code",
   "execution_count": 83,
   "id": "7503b50e",
   "metadata": {},
   "outputs": [
    {
     "data": {
      "text/plain": [
       "(#2) [Path('train/7'),Path('train/3')]"
      ]
     },
     "execution_count": 83,
     "metadata": {},
     "output_type": "execute_result"
    }
   ],
   "source": [
    "(path/'train').ls()\n"
   ]
  },
  {
   "cell_type": "code",
   "execution_count": 84,
   "id": "a90a4a46",
   "metadata": {},
   "outputs": [
    {
     "data": {
      "text/plain": [
       "(#6131) [Path('train/3/10.png'),Path('train/3/10000.png'),Path('train/3/10011.png'),Path('train/3/10031.png'),Path('train/3/10034.png'),Path('train/3/10042.png'),Path('train/3/10052.png'),Path('train/3/1007.png'),Path('train/3/10074.png'),Path('train/3/10091.png')...]"
      ]
     },
     "execution_count": 84,
     "metadata": {},
     "output_type": "execute_result"
    }
   ],
   "source": [
    "three_paths = (path/'train'/'3').ls().sorted()\n",
    "seven_paths = (path/'train'/'7').ls().sorted()\n",
    "three_paths\n"
   ]
  },
  {
   "cell_type": "code",
   "execution_count": 85,
   "id": "3442e9e7",
   "metadata": {},
   "outputs": [
    {
     "data": {
      "image/png": "[encoded data removed]",
      "text/plain": [
       "<PIL.PngImagePlugin.PngImageFile image mode=L size=28x28>"
      ]
     },
     "execution_count": 85,
     "metadata": {},
     "output_type": "execute_result"
    }
   ],
   "source": [
    "from PIL import Image\n",
    "\n",
    "im3_path = three_paths[1]\n",
    "im3 = Image.open(im3_path)\n",
    "im3\n"
   ]
  },
  {
   "cell_type": "code",
   "execution_count": 86,
   "id": "8f0cdf2c",
   "metadata": {},
   "outputs": [
    {
     "data": {
      "text/plain": [
       "array([[  0,   0,   0,   0,   0,   0],\n",
       "       [  0,   0,   0,   0,   0,  29],\n",
       "       [  0,   0,   0,  48, 166, 224],\n",
       "       [  0,  93, 244, 249, 253, 187],\n",
       "       [  0, 107, 253, 253, 230,  48],\n",
       "       [  0,   3,  20,  20,  15,   0]], dtype=uint8)"
      ]
     },
     "execution_count": 86,
     "metadata": {},
     "output_type": "execute_result"
    }
   ],
   "source": [
    "from numpy import array\n",
    "\n",
    "array(im3)[4:10,4:10]\n"
   ]
  },
  {
   "cell_type": "code",
   "execution_count": 87,
   "id": "54e456bf",
   "metadata": {},
   "outputs": [
    {
     "data": {
      "text/plain": [
       "tensor([[  0,   0,   0,   0,   0,   0],\n",
       "        [  0,   0,   0,   0,   0,  29],\n",
       "        [  0,   0,   0,  48, 166, 224],\n",
       "        [  0,  93, 244, 249, 253, 187],\n",
       "        [  0, 107, 253, 253, 230,  48],\n",
       "        [  0,   3,  20,  20,  15,   0]], dtype=torch.uint8)"
      ]
     },
     "execution_count": 87,
     "metadata": {},
     "output_type": "execute_result"
    }
   ],
   "source": [
    "from fastai.torch_core import tensor\n",
    "\n",
    "tensor(im3)[4:10,4:10]\n"
   ]
  },
  {
   "cell_type": "code",
   "execution_count": 88,
   "id": "03c363ba",
   "metadata": {},
   "outputs": [
    {
     "data": {
      "text/html": [
       "<style type=\"text/css\">\n",
       "#T_5709e_row0_col0, #T_5709e_row0_col1, #T_5709e_row0_col2, #T_5709e_row0_col3, #T_5709e_row0_col4, #T_5709e_row0_col5, #T_5709e_row0_col6, #T_5709e_row0_col7, #T_5709e_row0_col8, #T_5709e_row0_col9, #T_5709e_row0_col10, #T_5709e_row0_col11, #T_5709e_row0_col12, #T_5709e_row0_col13, #T_5709e_row0_col14, #T_5709e_row0_col15, #T_5709e_row0_col16, #T_5709e_row0_col17, #T_5709e_row1_col0, #T_5709e_row1_col1, #T_5709e_row1_col2, #T_5709e_row1_col3, #T_5709e_row1_col4, #T_5709e_row1_col15, #T_5709e_row1_col16, #T_5709e_row1_col17, #T_5709e_row2_col0, #T_5709e_row2_col1, #T_5709e_row2_col2, #T_5709e_row2_col15, #T_5709e_row2_col16, #T_5709e_row2_col17, #T_5709e_row3_col0, #T_5709e_row3_col15, #T_5709e_row3_col16, #T_5709e_row3_col17, #T_5709e_row4_col0, #T_5709e_row4_col6, #T_5709e_row4_col7, #T_5709e_row4_col8, #T_5709e_row4_col9, #T_5709e_row4_col10, #T_5709e_row4_col15, #T_5709e_row4_col16, #T_5709e_row4_col17, #T_5709e_row5_col0, #T_5709e_row5_col5, #T_5709e_row5_col6, #T_5709e_row5_col7, #T_5709e_row5_col8, #T_5709e_row5_col9, #T_5709e_row5_col15, #T_5709e_row5_col16, #T_5709e_row5_col17, #T_5709e_row6_col0, #T_5709e_row6_col1, #T_5709e_row6_col2, #T_5709e_row6_col3, #T_5709e_row6_col4, #T_5709e_row6_col5, #T_5709e_row6_col6, #T_5709e_row6_col7, #T_5709e_row6_col8, #T_5709e_row6_col9, #T_5709e_row6_col14, #T_5709e_row6_col15, #T_5709e_row6_col16, #T_5709e_row6_col17, #T_5709e_row7_col0, #T_5709e_row7_col1, #T_5709e_row7_col2, #T_5709e_row7_col3, #T_5709e_row7_col4, #T_5709e_row7_col5, #T_5709e_row7_col6, #T_5709e_row7_col13, #T_5709e_row7_col14, #T_5709e_row7_col15, #T_5709e_row7_col16, #T_5709e_row7_col17, #T_5709e_row8_col0, #T_5709e_row8_col1, #T_5709e_row8_col2, #T_5709e_row8_col3, #T_5709e_row8_col4, #T_5709e_row8_col13, #T_5709e_row8_col14, #T_5709e_row8_col15, #T_5709e_row8_col16, #T_5709e_row8_col17, #T_5709e_row9_col0, #T_5709e_row9_col1, #T_5709e_row9_col2, #T_5709e_row9_col3, #T_5709e_row9_col4, #T_5709e_row9_col16, #T_5709e_row9_col17, #T_5709e_row10_col0, #T_5709e_row10_col1, #T_5709e_row10_col2, #T_5709e_row10_col3, #T_5709e_row10_col4, #T_5709e_row10_col5, #T_5709e_row10_col6, #T_5709e_row10_col17 {\n",
       "  font-size: 6pt;\n",
       "  background-color: #ffffff;\n",
       "  color: #000000;\n",
       "}\n",
       "#T_5709e_row1_col5 {\n",
       "  font-size: 6pt;\n",
       "  background-color: #efefef;\n",
       "  color: #000000;\n",
       "}\n",
       "#T_5709e_row1_col6, #T_5709e_row1_col13 {\n",
       "  font-size: 6pt;\n",
       "  background-color: #7c7c7c;\n",
       "  color: #f1f1f1;\n",
       "}\n",
       "#T_5709e_row1_col7 {\n",
       "  font-size: 6pt;\n",
       "  background-color: #4a4a4a;\n",
       "  color: #f1f1f1;\n",
       "}\n",
       "#T_5709e_row1_col8, #T_5709e_row1_col9, #T_5709e_row1_col10, #T_5709e_row2_col5, #T_5709e_row2_col6, #T_5709e_row2_col7, #T_5709e_row2_col11, #T_5709e_row2_col12, #T_5709e_row2_col13, #T_5709e_row3_col4, #T_5709e_row3_col12, #T_5709e_row3_col13, #T_5709e_row4_col1, #T_5709e_row4_col2, #T_5709e_row4_col3, #T_5709e_row4_col12, #T_5709e_row4_col13, #T_5709e_row5_col12, #T_5709e_row6_col11, #T_5709e_row9_col11, #T_5709e_row10_col11, #T_5709e_row10_col12, #T_5709e_row10_col13, #T_5709e_row10_col14, #T_5709e_row10_col15, #T_5709e_row10_col16 {\n",
       "  font-size: 6pt;\n",
       "  background-color: #000000;\n",
       "  color: #f1f1f1;\n",
       "}\n",
       "#T_5709e_row1_col11 {\n",
       "  font-size: 6pt;\n",
       "  background-color: #606060;\n",
       "  color: #f1f1f1;\n",
       "}\n",
       "#T_5709e_row1_col12 {\n",
       "  font-size: 6pt;\n",
       "  background-color: #4d4d4d;\n",
       "  color: #f1f1f1;\n",
       "}\n",
       "#T_5709e_row1_col14 {\n",
       "  font-size: 6pt;\n",
       "  background-color: #bbbbbb;\n",
       "  color: #000000;\n",
       "}\n",
       "#T_5709e_row2_col3 {\n",
       "  font-size: 6pt;\n",
       "  background-color: #e4e4e4;\n",
       "  color: #000000;\n",
       "}\n",
       "#T_5709e_row2_col4, #T_5709e_row8_col6 {\n",
       "  font-size: 6pt;\n",
       "  background-color: #6b6b6b;\n",
       "  color: #f1f1f1;\n",
       "}\n",
       "#T_5709e_row2_col8, #T_5709e_row2_col14, #T_5709e_row3_col14 {\n",
       "  font-size: 6pt;\n",
       "  background-color: #171717;\n",
       "  color: #f1f1f1;\n",
       "}\n",
       "#T_5709e_row2_col9, #T_5709e_row3_col11 {\n",
       "  font-size: 6pt;\n",
       "  background-color: #4b4b4b;\n",
       "  color: #f1f1f1;\n",
       "}\n",
       "#T_5709e_row2_col10, #T_5709e_row7_col10, #T_5709e_row8_col8, #T_5709e_row8_col10, #T_5709e_row9_col8, #T_5709e_row9_col10 {\n",
       "  font-size: 6pt;\n",
       "  background-color: #010101;\n",
       "  color: #f1f1f1;\n",
       "}\n",
       "#T_5709e_row3_col1 {\n",
       "  font-size: 6pt;\n",
       "  background-color: #272727;\n",
       "  color: #f1f1f1;\n",
       "}\n",
       "#T_5709e_row3_col2 {\n",
       "  font-size: 6pt;\n",
       "  background-color: #0a0a0a;\n",
       "  color: #f1f1f1;\n",
       "}\n",
       "#T_5709e_row3_col3 {\n",
       "  font-size: 6pt;\n",
       "  background-color: #050505;\n",
       "  color: #f1f1f1;\n",
       "}\n",
       "#T_5709e_row3_col5 {\n",
       "  font-size: 6pt;\n",
       "  background-color: #333333;\n",
       "  color: #f1f1f1;\n",
       "}\n",
       "#T_5709e_row3_col6 {\n",
       "  font-size: 6pt;\n",
       "  background-color: #e6e6e6;\n",
       "  color: #000000;\n",
       "}\n",
       "#T_5709e_row3_col7, #T_5709e_row3_col10 {\n",
       "  font-size: 6pt;\n",
       "  background-color: #fafafa;\n",
       "  color: #000000;\n",
       "}\n",
       "#T_5709e_row3_col8 {\n",
       "  font-size: 6pt;\n",
       "  background-color: #fbfbfb;\n",
       "  color: #000000;\n",
       "}\n",
       "#T_5709e_row3_col9 {\n",
       "  font-size: 6pt;\n",
       "  background-color: #fdfdfd;\n",
       "  color: #000000;\n",
       "}\n",
       "#T_5709e_row4_col4 {\n",
       "  font-size: 6pt;\n",
       "  background-color: #1b1b1b;\n",
       "  color: #f1f1f1;\n",
       "}\n",
       "#T_5709e_row4_col5 {\n",
       "  font-size: 6pt;\n",
       "  background-color: #e0e0e0;\n",
       "  color: #000000;\n",
       "}\n",
       "#T_5709e_row4_col11 {\n",
       "  font-size: 6pt;\n",
       "  background-color: #4e4e4e;\n",
       "  color: #f1f1f1;\n",
       "}\n",
       "#T_5709e_row4_col14 {\n",
       "  font-size: 6pt;\n",
       "  background-color: #767676;\n",
       "  color: #f1f1f1;\n",
       "}\n",
       "#T_5709e_row5_col1 {\n",
       "  font-size: 6pt;\n",
       "  background-color: #fcfcfc;\n",
       "  color: #000000;\n",
       "}\n",
       "#T_5709e_row5_col2, #T_5709e_row5_col3 {\n",
       "  font-size: 6pt;\n",
       "  background-color: #f6f6f6;\n",
       "  color: #000000;\n",
       "}\n",
       "#T_5709e_row5_col4, #T_5709e_row7_col7 {\n",
       "  font-size: 6pt;\n",
       "  background-color: #f8f8f8;\n",
       "  color: #000000;\n",
       "}\n",
       "#T_5709e_row5_col10, #T_5709e_row10_col7 {\n",
       "  font-size: 6pt;\n",
       "  background-color: #e8e8e8;\n",
       "  color: #000000;\n",
       "}\n",
       "#T_5709e_row5_col11 {\n",
       "  font-size: 6pt;\n",
       "  background-color: #222222;\n",
       "  color: #f1f1f1;\n",
       "}\n",
       "#T_5709e_row5_col13, #T_5709e_row6_col12 {\n",
       "  font-size: 6pt;\n",
       "  background-color: #090909;\n",
       "  color: #f1f1f1;\n",
       "}\n",
       "#T_5709e_row5_col14 {\n",
       "  font-size: 6pt;\n",
       "  background-color: #d0d0d0;\n",
       "  color: #000000;\n",
       "}\n",
       "#T_5709e_row6_col10, #T_5709e_row7_col11, #T_5709e_row9_col6 {\n",
       "  font-size: 6pt;\n",
       "  background-color: #060606;\n",
       "  color: #f1f1f1;\n",
       "}\n",
       "#T_5709e_row6_col13 {\n",
       "  font-size: 6pt;\n",
       "  background-color: #979797;\n",
       "  color: #f1f1f1;\n",
       "}\n",
       "#T_5709e_row7_col8 {\n",
       "  font-size: 6pt;\n",
       "  background-color: #b6b6b6;\n",
       "  color: #000000;\n",
       "}\n",
       "#T_5709e_row7_col9 {\n",
       "  font-size: 6pt;\n",
       "  background-color: #252525;\n",
       "  color: #f1f1f1;\n",
       "}\n",
       "#T_5709e_row7_col12 {\n",
       "  font-size: 6pt;\n",
       "  background-color: #999999;\n",
       "  color: #f1f1f1;\n",
       "}\n",
       "#T_5709e_row8_col5 {\n",
       "  font-size: 6pt;\n",
       "  background-color: #f9f9f9;\n",
       "  color: #000000;\n",
       "}\n",
       "#T_5709e_row8_col7 {\n",
       "  font-size: 6pt;\n",
       "  background-color: #101010;\n",
       "  color: #f1f1f1;\n",
       "}\n",
       "#T_5709e_row8_col9, #T_5709e_row9_col9 {\n",
       "  font-size: 6pt;\n",
       "  background-color: #020202;\n",
       "  color: #f1f1f1;\n",
       "}\n",
       "#T_5709e_row8_col11 {\n",
       "  font-size: 6pt;\n",
       "  background-color: #545454;\n",
       "  color: #f1f1f1;\n",
       "}\n",
       "#T_5709e_row8_col12 {\n",
       "  font-size: 6pt;\n",
       "  background-color: #f1f1f1;\n",
       "  color: #000000;\n",
       "}\n",
       "#T_5709e_row9_col5 {\n",
       "  font-size: 6pt;\n",
       "  background-color: #f7f7f7;\n",
       "  color: #000000;\n",
       "}\n",
       "#T_5709e_row9_col7 {\n",
       "  font-size: 6pt;\n",
       "  background-color: #030303;\n",
       "  color: #f1f1f1;\n",
       "}\n",
       "#T_5709e_row9_col12 {\n",
       "  font-size: 6pt;\n",
       "  background-color: #181818;\n",
       "  color: #f1f1f1;\n",
       "}\n",
       "#T_5709e_row9_col13 {\n",
       "  font-size: 6pt;\n",
       "  background-color: #303030;\n",
       "  color: #f1f1f1;\n",
       "}\n",
       "#T_5709e_row9_col14 {\n",
       "  font-size: 6pt;\n",
       "  background-color: #a9a9a9;\n",
       "  color: #f1f1f1;\n",
       "}\n",
       "#T_5709e_row9_col15 {\n",
       "  font-size: 6pt;\n",
       "  background-color: #fefefe;\n",
       "  color: #000000;\n",
       "}\n",
       "#T_5709e_row10_col8, #T_5709e_row10_col9 {\n",
       "  font-size: 6pt;\n",
       "  background-color: #bababa;\n",
       "  color: #000000;\n",
       "}\n",
       "#T_5709e_row10_col10 {\n",
       "  font-size: 6pt;\n",
       "  background-color: #393939;\n",
       "  color: #f1f1f1;\n",
       "}\n",
       "</style>\n",
       "<table id=\"T_5709e\">\n",
       "  <thead>\n",
       "    <tr>\n",
       "      <th class=\"blank level0\" >&nbsp;</th>\n",
       "      <th id=\"T_5709e_level0_col0\" class=\"col_heading level0 col0\" >0</th>\n",
       "      <th id=\"T_5709e_level0_col1\" class=\"col_heading level0 col1\" >1</th>\n",
       "      <th id=\"T_5709e_level0_col2\" class=\"col_heading level0 col2\" >2</th>\n",
       "      <th id=\"T_5709e_level0_col3\" class=\"col_heading level0 col3\" >3</th>\n",
       "      <th id=\"T_5709e_level0_col4\" class=\"col_heading level0 col4\" >4</th>\n",
       "      <th id=\"T_5709e_level0_col5\" class=\"col_heading level0 col5\" >5</th>\n",
       "      <th id=\"T_5709e_level0_col6\" class=\"col_heading level0 col6\" >6</th>\n",
       "      <th id=\"T_5709e_level0_col7\" class=\"col_heading level0 col7\" >7</th>\n",
       "      <th id=\"T_5709e_level0_col8\" class=\"col_heading level0 col8\" >8</th>\n",
       "      <th id=\"T_5709e_level0_col9\" class=\"col_heading level0 col9\" >9</th>\n",
       "      <th id=\"T_5709e_level0_col10\" class=\"col_heading level0 col10\" >10</th>\n",
       "      <th id=\"T_5709e_level0_col11\" class=\"col_heading level0 col11\" >11</th>\n",
       "      <th id=\"T_5709e_level0_col12\" class=\"col_heading level0 col12\" >12</th>\n",
       "      <th id=\"T_5709e_level0_col13\" class=\"col_heading level0 col13\" >13</th>\n",
       "      <th id=\"T_5709e_level0_col14\" class=\"col_heading level0 col14\" >14</th>\n",
       "      <th id=\"T_5709e_level0_col15\" class=\"col_heading level0 col15\" >15</th>\n",
       "      <th id=\"T_5709e_level0_col16\" class=\"col_heading level0 col16\" >16</th>\n",
       "      <th id=\"T_5709e_level0_col17\" class=\"col_heading level0 col17\" >17</th>\n",
       "    </tr>\n",
       "  </thead>\n",
       "  <tbody>\n",
       "    <tr>\n",
       "      <th id=\"T_5709e_level0_row0\" class=\"row_heading level0 row0\" >0</th>\n",
       "      <td id=\"T_5709e_row0_col0\" class=\"data row0 col0\" >0</td>\n",
       "      <td id=\"T_5709e_row0_col1\" class=\"data row0 col1\" >0</td>\n",
       "      <td id=\"T_5709e_row0_col2\" class=\"data row0 col2\" >0</td>\n",
       "      <td id=\"T_5709e_row0_col3\" class=\"data row0 col3\" >0</td>\n",
       "      <td id=\"T_5709e_row0_col4\" class=\"data row0 col4\" >0</td>\n",
       "      <td id=\"T_5709e_row0_col5\" class=\"data row0 col5\" >0</td>\n",
       "      <td id=\"T_5709e_row0_col6\" class=\"data row0 col6\" >0</td>\n",
       "      <td id=\"T_5709e_row0_col7\" class=\"data row0 col7\" >0</td>\n",
       "      <td id=\"T_5709e_row0_col8\" class=\"data row0 col8\" >0</td>\n",
       "      <td id=\"T_5709e_row0_col9\" class=\"data row0 col9\" >0</td>\n",
       "      <td id=\"T_5709e_row0_col10\" class=\"data row0 col10\" >0</td>\n",
       "      <td id=\"T_5709e_row0_col11\" class=\"data row0 col11\" >0</td>\n",
       "      <td id=\"T_5709e_row0_col12\" class=\"data row0 col12\" >0</td>\n",
       "      <td id=\"T_5709e_row0_col13\" class=\"data row0 col13\" >0</td>\n",
       "      <td id=\"T_5709e_row0_col14\" class=\"data row0 col14\" >0</td>\n",
       "      <td id=\"T_5709e_row0_col15\" class=\"data row0 col15\" >0</td>\n",
       "      <td id=\"T_5709e_row0_col16\" class=\"data row0 col16\" >0</td>\n",
       "      <td id=\"T_5709e_row0_col17\" class=\"data row0 col17\" >0</td>\n",
       "    </tr>\n",
       "    <tr>\n",
       "      <th id=\"T_5709e_level0_row1\" class=\"row_heading level0 row1\" >1</th>\n",
       "      <td id=\"T_5709e_row1_col0\" class=\"data row1 col0\" >0</td>\n",
       "      <td id=\"T_5709e_row1_col1\" class=\"data row1 col1\" >0</td>\n",
       "      <td id=\"T_5709e_row1_col2\" class=\"data row1 col2\" >0</td>\n",
       "      <td id=\"T_5709e_row1_col3\" class=\"data row1 col3\" >0</td>\n",
       "      <td id=\"T_5709e_row1_col4\" class=\"data row1 col4\" >0</td>\n",
       "      <td id=\"T_5709e_row1_col5\" class=\"data row1 col5\" >29</td>\n",
       "      <td id=\"T_5709e_row1_col6\" class=\"data row1 col6\" >150</td>\n",
       "      <td id=\"T_5709e_row1_col7\" class=\"data row1 col7\" >195</td>\n",
       "      <td id=\"T_5709e_row1_col8\" class=\"data row1 col8\" >254</td>\n",
       "      <td id=\"T_5709e_row1_col9\" class=\"data row1 col9\" >255</td>\n",
       "      <td id=\"T_5709e_row1_col10\" class=\"data row1 col10\" >254</td>\n",
       "      <td id=\"T_5709e_row1_col11\" class=\"data row1 col11\" >176</td>\n",
       "      <td id=\"T_5709e_row1_col12\" class=\"data row1 col12\" >193</td>\n",
       "      <td id=\"T_5709e_row1_col13\" class=\"data row1 col13\" >150</td>\n",
       "      <td id=\"T_5709e_row1_col14\" class=\"data row1 col14\" >96</td>\n",
       "      <td id=\"T_5709e_row1_col15\" class=\"data row1 col15\" >0</td>\n",
       "      <td id=\"T_5709e_row1_col16\" class=\"data row1 col16\" >0</td>\n",
       "      <td id=\"T_5709e_row1_col17\" class=\"data row1 col17\" >0</td>\n",
       "    </tr>\n",
       "    <tr>\n",
       "      <th id=\"T_5709e_level0_row2\" class=\"row_heading level0 row2\" >2</th>\n",
       "      <td id=\"T_5709e_row2_col0\" class=\"data row2 col0\" >0</td>\n",
       "      <td id=\"T_5709e_row2_col1\" class=\"data row2 col1\" >0</td>\n",
       "      <td id=\"T_5709e_row2_col2\" class=\"data row2 col2\" >0</td>\n",
       "      <td id=\"T_5709e_row2_col3\" class=\"data row2 col3\" >48</td>\n",
       "      <td id=\"T_5709e_row2_col4\" class=\"data row2 col4\" >166</td>\n",
       "      <td id=\"T_5709e_row2_col5\" class=\"data row2 col5\" >224</td>\n",
       "      <td id=\"T_5709e_row2_col6\" class=\"data row2 col6\" >253</td>\n",
       "      <td id=\"T_5709e_row2_col7\" class=\"data row2 col7\" >253</td>\n",
       "      <td id=\"T_5709e_row2_col8\" class=\"data row2 col8\" >234</td>\n",
       "      <td id=\"T_5709e_row2_col9\" class=\"data row2 col9\" >196</td>\n",
       "      <td id=\"T_5709e_row2_col10\" class=\"data row2 col10\" >253</td>\n",
       "      <td id=\"T_5709e_row2_col11\" class=\"data row2 col11\" >253</td>\n",
       "      <td id=\"T_5709e_row2_col12\" class=\"data row2 col12\" >253</td>\n",
       "      <td id=\"T_5709e_row2_col13\" class=\"data row2 col13\" >253</td>\n",
       "      <td id=\"T_5709e_row2_col14\" class=\"data row2 col14\" >233</td>\n",
       "      <td id=\"T_5709e_row2_col15\" class=\"data row2 col15\" >0</td>\n",
       "      <td id=\"T_5709e_row2_col16\" class=\"data row2 col16\" >0</td>\n",
       "      <td id=\"T_5709e_row2_col17\" class=\"data row2 col17\" >0</td>\n",
       "    </tr>\n",
       "    <tr>\n",
       "      <th id=\"T_5709e_level0_row3\" class=\"row_heading level0 row3\" >3</th>\n",
       "      <td id=\"T_5709e_row3_col0\" class=\"data row3 col0\" >0</td>\n",
       "      <td id=\"T_5709e_row3_col1\" class=\"data row3 col1\" >93</td>\n",
       "      <td id=\"T_5709e_row3_col2\" class=\"data row3 col2\" >244</td>\n",
       "      <td id=\"T_5709e_row3_col3\" class=\"data row3 col3\" >249</td>\n",
       "      <td id=\"T_5709e_row3_col4\" class=\"data row3 col4\" >253</td>\n",
       "      <td id=\"T_5709e_row3_col5\" class=\"data row3 col5\" >187</td>\n",
       "      <td id=\"T_5709e_row3_col6\" class=\"data row3 col6\" >46</td>\n",
       "      <td id=\"T_5709e_row3_col7\" class=\"data row3 col7\" >10</td>\n",
       "      <td id=\"T_5709e_row3_col8\" class=\"data row3 col8\" >8</td>\n",
       "      <td id=\"T_5709e_row3_col9\" class=\"data row3 col9\" >4</td>\n",
       "      <td id=\"T_5709e_row3_col10\" class=\"data row3 col10\" >10</td>\n",
       "      <td id=\"T_5709e_row3_col11\" class=\"data row3 col11\" >194</td>\n",
       "      <td id=\"T_5709e_row3_col12\" class=\"data row3 col12\" >253</td>\n",
       "      <td id=\"T_5709e_row3_col13\" class=\"data row3 col13\" >253</td>\n",
       "      <td id=\"T_5709e_row3_col14\" class=\"data row3 col14\" >233</td>\n",
       "      <td id=\"T_5709e_row3_col15\" class=\"data row3 col15\" >0</td>\n",
       "      <td id=\"T_5709e_row3_col16\" class=\"data row3 col16\" >0</td>\n",
       "      <td id=\"T_5709e_row3_col17\" class=\"data row3 col17\" >0</td>\n",
       "    </tr>\n",
       "    <tr>\n",
       "      <th id=\"T_5709e_level0_row4\" class=\"row_heading level0 row4\" >4</th>\n",
       "      <td id=\"T_5709e_row4_col0\" class=\"data row4 col0\" >0</td>\n",
       "      <td id=\"T_5709e_row4_col1\" class=\"data row4 col1\" >107</td>\n",
       "      <td id=\"T_5709e_row4_col2\" class=\"data row4 col2\" >253</td>\n",
       "      <td id=\"T_5709e_row4_col3\" class=\"data row4 col3\" >253</td>\n",
       "      <td id=\"T_5709e_row4_col4\" class=\"data row4 col4\" >230</td>\n",
       "      <td id=\"T_5709e_row4_col5\" class=\"data row4 col5\" >48</td>\n",
       "      <td id=\"T_5709e_row4_col6\" class=\"data row4 col6\" >0</td>\n",
       "      <td id=\"T_5709e_row4_col7\" class=\"data row4 col7\" >0</td>\n",
       "      <td id=\"T_5709e_row4_col8\" class=\"data row4 col8\" >0</td>\n",
       "      <td id=\"T_5709e_row4_col9\" class=\"data row4 col9\" >0</td>\n",
       "      <td id=\"T_5709e_row4_col10\" class=\"data row4 col10\" >0</td>\n",
       "      <td id=\"T_5709e_row4_col11\" class=\"data row4 col11\" >192</td>\n",
       "      <td id=\"T_5709e_row4_col12\" class=\"data row4 col12\" >253</td>\n",
       "      <td id=\"T_5709e_row4_col13\" class=\"data row4 col13\" >253</td>\n",
       "      <td id=\"T_5709e_row4_col14\" class=\"data row4 col14\" >156</td>\n",
       "      <td id=\"T_5709e_row4_col15\" class=\"data row4 col15\" >0</td>\n",
       "      <td id=\"T_5709e_row4_col16\" class=\"data row4 col16\" >0</td>\n",
       "      <td id=\"T_5709e_row4_col17\" class=\"data row4 col17\" >0</td>\n",
       "    </tr>\n",
       "    <tr>\n",
       "      <th id=\"T_5709e_level0_row5\" class=\"row_heading level0 row5\" >5</th>\n",
       "      <td id=\"T_5709e_row5_col0\" class=\"data row5 col0\" >0</td>\n",
       "      <td id=\"T_5709e_row5_col1\" class=\"data row5 col1\" >3</td>\n",
       "      <td id=\"T_5709e_row5_col2\" class=\"data row5 col2\" >20</td>\n",
       "      <td id=\"T_5709e_row5_col3\" class=\"data row5 col3\" >20</td>\n",
       "      <td id=\"T_5709e_row5_col4\" class=\"data row5 col4\" >15</td>\n",
       "      <td id=\"T_5709e_row5_col5\" class=\"data row5 col5\" >0</td>\n",
       "      <td id=\"T_5709e_row5_col6\" class=\"data row5 col6\" >0</td>\n",
       "      <td id=\"T_5709e_row5_col7\" class=\"data row5 col7\" >0</td>\n",
       "      <td id=\"T_5709e_row5_col8\" class=\"data row5 col8\" >0</td>\n",
       "      <td id=\"T_5709e_row5_col9\" class=\"data row5 col9\" >0</td>\n",
       "      <td id=\"T_5709e_row5_col10\" class=\"data row5 col10\" >43</td>\n",
       "      <td id=\"T_5709e_row5_col11\" class=\"data row5 col11\" >224</td>\n",
       "      <td id=\"T_5709e_row5_col12\" class=\"data row5 col12\" >253</td>\n",
       "      <td id=\"T_5709e_row5_col13\" class=\"data row5 col13\" >245</td>\n",
       "      <td id=\"T_5709e_row5_col14\" class=\"data row5 col14\" >74</td>\n",
       "      <td id=\"T_5709e_row5_col15\" class=\"data row5 col15\" >0</td>\n",
       "      <td id=\"T_5709e_row5_col16\" class=\"data row5 col16\" >0</td>\n",
       "      <td id=\"T_5709e_row5_col17\" class=\"data row5 col17\" >0</td>\n",
       "    </tr>\n",
       "    <tr>\n",
       "      <th id=\"T_5709e_level0_row6\" class=\"row_heading level0 row6\" >6</th>\n",
       "      <td id=\"T_5709e_row6_col0\" class=\"data row6 col0\" >0</td>\n",
       "      <td id=\"T_5709e_row6_col1\" class=\"data row6 col1\" >0</td>\n",
       "      <td id=\"T_5709e_row6_col2\" class=\"data row6 col2\" >0</td>\n",
       "      <td id=\"T_5709e_row6_col3\" class=\"data row6 col3\" >0</td>\n",
       "      <td id=\"T_5709e_row6_col4\" class=\"data row6 col4\" >0</td>\n",
       "      <td id=\"T_5709e_row6_col5\" class=\"data row6 col5\" >0</td>\n",
       "      <td id=\"T_5709e_row6_col6\" class=\"data row6 col6\" >0</td>\n",
       "      <td id=\"T_5709e_row6_col7\" class=\"data row6 col7\" >0</td>\n",
       "      <td id=\"T_5709e_row6_col8\" class=\"data row6 col8\" >0</td>\n",
       "      <td id=\"T_5709e_row6_col9\" class=\"data row6 col9\" >0</td>\n",
       "      <td id=\"T_5709e_row6_col10\" class=\"data row6 col10\" >249</td>\n",
       "      <td id=\"T_5709e_row6_col11\" class=\"data row6 col11\" >253</td>\n",
       "      <td id=\"T_5709e_row6_col12\" class=\"data row6 col12\" >245</td>\n",
       "      <td id=\"T_5709e_row6_col13\" class=\"data row6 col13\" >126</td>\n",
       "      <td id=\"T_5709e_row6_col14\" class=\"data row6 col14\" >0</td>\n",
       "      <td id=\"T_5709e_row6_col15\" class=\"data row6 col15\" >0</td>\n",
       "      <td id=\"T_5709e_row6_col16\" class=\"data row6 col16\" >0</td>\n",
       "      <td id=\"T_5709e_row6_col17\" class=\"data row6 col17\" >0</td>\n",
       "    </tr>\n",
       "    <tr>\n",
       "      <th id=\"T_5709e_level0_row7\" class=\"row_heading level0 row7\" >7</th>\n",
       "      <td id=\"T_5709e_row7_col0\" class=\"data row7 col0\" >0</td>\n",
       "      <td id=\"T_5709e_row7_col1\" class=\"data row7 col1\" >0</td>\n",
       "      <td id=\"T_5709e_row7_col2\" class=\"data row7 col2\" >0</td>\n",
       "      <td id=\"T_5709e_row7_col3\" class=\"data row7 col3\" >0</td>\n",
       "      <td id=\"T_5709e_row7_col4\" class=\"data row7 col4\" >0</td>\n",
       "      <td id=\"T_5709e_row7_col5\" class=\"data row7 col5\" >0</td>\n",
       "      <td id=\"T_5709e_row7_col6\" class=\"data row7 col6\" >0</td>\n",
       "      <td id=\"T_5709e_row7_col7\" class=\"data row7 col7\" >14</td>\n",
       "      <td id=\"T_5709e_row7_col8\" class=\"data row7 col8\" >101</td>\n",
       "      <td id=\"T_5709e_row7_col9\" class=\"data row7 col9\" >223</td>\n",
       "      <td id=\"T_5709e_row7_col10\" class=\"data row7 col10\" >253</td>\n",
       "      <td id=\"T_5709e_row7_col11\" class=\"data row7 col11\" >248</td>\n",
       "      <td id=\"T_5709e_row7_col12\" class=\"data row7 col12\" >124</td>\n",
       "      <td id=\"T_5709e_row7_col13\" class=\"data row7 col13\" >0</td>\n",
       "      <td id=\"T_5709e_row7_col14\" class=\"data row7 col14\" >0</td>\n",
       "      <td id=\"T_5709e_row7_col15\" class=\"data row7 col15\" >0</td>\n",
       "      <td id=\"T_5709e_row7_col16\" class=\"data row7 col16\" >0</td>\n",
       "      <td id=\"T_5709e_row7_col17\" class=\"data row7 col17\" >0</td>\n",
       "    </tr>\n",
       "    <tr>\n",
       "      <th id=\"T_5709e_level0_row8\" class=\"row_heading level0 row8\" >8</th>\n",
       "      <td id=\"T_5709e_row8_col0\" class=\"data row8 col0\" >0</td>\n",
       "      <td id=\"T_5709e_row8_col1\" class=\"data row8 col1\" >0</td>\n",
       "      <td id=\"T_5709e_row8_col2\" class=\"data row8 col2\" >0</td>\n",
       "      <td id=\"T_5709e_row8_col3\" class=\"data row8 col3\" >0</td>\n",
       "      <td id=\"T_5709e_row8_col4\" class=\"data row8 col4\" >0</td>\n",
       "      <td id=\"T_5709e_row8_col5\" class=\"data row8 col5\" >11</td>\n",
       "      <td id=\"T_5709e_row8_col6\" class=\"data row8 col6\" >166</td>\n",
       "      <td id=\"T_5709e_row8_col7\" class=\"data row8 col7\" >239</td>\n",
       "      <td id=\"T_5709e_row8_col8\" class=\"data row8 col8\" >253</td>\n",
       "      <td id=\"T_5709e_row8_col9\" class=\"data row8 col9\" >253</td>\n",
       "      <td id=\"T_5709e_row8_col10\" class=\"data row8 col10\" >253</td>\n",
       "      <td id=\"T_5709e_row8_col11\" class=\"data row8 col11\" >187</td>\n",
       "      <td id=\"T_5709e_row8_col12\" class=\"data row8 col12\" >30</td>\n",
       "      <td id=\"T_5709e_row8_col13\" class=\"data row8 col13\" >0</td>\n",
       "      <td id=\"T_5709e_row8_col14\" class=\"data row8 col14\" >0</td>\n",
       "      <td id=\"T_5709e_row8_col15\" class=\"data row8 col15\" >0</td>\n",
       "      <td id=\"T_5709e_row8_col16\" class=\"data row8 col16\" >0</td>\n",
       "      <td id=\"T_5709e_row8_col17\" class=\"data row8 col17\" >0</td>\n",
       "    </tr>\n",
       "    <tr>\n",
       "      <th id=\"T_5709e_level0_row9\" class=\"row_heading level0 row9\" >9</th>\n",
       "      <td id=\"T_5709e_row9_col0\" class=\"data row9 col0\" >0</td>\n",
       "      <td id=\"T_5709e_row9_col1\" class=\"data row9 col1\" >0</td>\n",
       "      <td id=\"T_5709e_row9_col2\" class=\"data row9 col2\" >0</td>\n",
       "      <td id=\"T_5709e_row9_col3\" class=\"data row9 col3\" >0</td>\n",
       "      <td id=\"T_5709e_row9_col4\" class=\"data row9 col4\" >0</td>\n",
       "      <td id=\"T_5709e_row9_col5\" class=\"data row9 col5\" >16</td>\n",
       "      <td id=\"T_5709e_row9_col6\" class=\"data row9 col6\" >248</td>\n",
       "      <td id=\"T_5709e_row9_col7\" class=\"data row9 col7\" >250</td>\n",
       "      <td id=\"T_5709e_row9_col8\" class=\"data row9 col8\" >253</td>\n",
       "      <td id=\"T_5709e_row9_col9\" class=\"data row9 col9\" >253</td>\n",
       "      <td id=\"T_5709e_row9_col10\" class=\"data row9 col10\" >253</td>\n",
       "      <td id=\"T_5709e_row9_col11\" class=\"data row9 col11\" >253</td>\n",
       "      <td id=\"T_5709e_row9_col12\" class=\"data row9 col12\" >232</td>\n",
       "      <td id=\"T_5709e_row9_col13\" class=\"data row9 col13\" >213</td>\n",
       "      <td id=\"T_5709e_row9_col14\" class=\"data row9 col14\" >111</td>\n",
       "      <td id=\"T_5709e_row9_col15\" class=\"data row9 col15\" >2</td>\n",
       "      <td id=\"T_5709e_row9_col16\" class=\"data row9 col16\" >0</td>\n",
       "      <td id=\"T_5709e_row9_col17\" class=\"data row9 col17\" >0</td>\n",
       "    </tr>\n",
       "    <tr>\n",
       "      <th id=\"T_5709e_level0_row10\" class=\"row_heading level0 row10\" >10</th>\n",
       "      <td id=\"T_5709e_row10_col0\" class=\"data row10 col0\" >0</td>\n",
       "      <td id=\"T_5709e_row10_col1\" class=\"data row10 col1\" >0</td>\n",
       "      <td id=\"T_5709e_row10_col2\" class=\"data row10 col2\" >0</td>\n",
       "      <td id=\"T_5709e_row10_col3\" class=\"data row10 col3\" >0</td>\n",
       "      <td id=\"T_5709e_row10_col4\" class=\"data row10 col4\" >0</td>\n",
       "      <td id=\"T_5709e_row10_col5\" class=\"data row10 col5\" >0</td>\n",
       "      <td id=\"T_5709e_row10_col6\" class=\"data row10 col6\" >0</td>\n",
       "      <td id=\"T_5709e_row10_col7\" class=\"data row10 col7\" >43</td>\n",
       "      <td id=\"T_5709e_row10_col8\" class=\"data row10 col8\" >98</td>\n",
       "      <td id=\"T_5709e_row10_col9\" class=\"data row10 col9\" >98</td>\n",
       "      <td id=\"T_5709e_row10_col10\" class=\"data row10 col10\" >208</td>\n",
       "      <td id=\"T_5709e_row10_col11\" class=\"data row10 col11\" >253</td>\n",
       "      <td id=\"T_5709e_row10_col12\" class=\"data row10 col12\" >253</td>\n",
       "      <td id=\"T_5709e_row10_col13\" class=\"data row10 col13\" >253</td>\n",
       "      <td id=\"T_5709e_row10_col14\" class=\"data row10 col14\" >253</td>\n",
       "      <td id=\"T_5709e_row10_col15\" class=\"data row10 col15\" >187</td>\n",
       "      <td id=\"T_5709e_row10_col16\" class=\"data row10 col16\" >22</td>\n",
       "      <td id=\"T_5709e_row10_col17\" class=\"data row10 col17\" >0</td>\n",
       "    </tr>\n",
       "  </tbody>\n",
       "</table>\n"
      ],
      "text/plain": [
       "<pandas.io.formats.style.Styler at 0x2b6e333d0>"
      ]
     },
     "execution_count": 88,
     "metadata": {},
     "output_type": "execute_result"
    }
   ],
   "source": [
    "import pandas as pd\n",
    "\n",
    "df = pd.DataFrame(tensor(im3)[4:15,4:22])\n",
    "df.style.set_properties(**{'font-size': '6pt'}).background_gradient('Greys')\n"
   ]
  },
  {
   "cell_type": "code",
   "execution_count": 89,
   "id": "c76b4cde",
   "metadata": {},
   "outputs": [
    {
     "data": {
      "text/plain": [
       "(6131, 6265)"
      ]
     },
     "execution_count": 89,
     "metadata": {},
     "output_type": "execute_result"
    }
   ],
   "source": [
    "seven_tensors = [tensor(Image.open(o)) for o in seven_paths]\n",
    "three_tensors = [tensor(Image.open(o)) for o in three_paths]\n",
    "len(three_tensors),len(seven_tensors)\n"
   ]
  },
  {
   "cell_type": "code",
   "execution_count": 90,
   "id": "0fc11795",
   "metadata": {},
   "outputs": [
    {
     "data": {
      "image/png": "[encoded data removed]",
      "text/plain": [
       "<Figure size 100x100 with 1 Axes>"
      ]
     },
     "metadata": {},
     "output_type": "display_data"
    }
   ],
   "source": [
    "from fastai.torch_core import show_image\n",
    "\n",
    "show_image(three_tensors[1]);\n"
   ]
  },
  {
   "cell_type": "code",
   "execution_count": 91,
   "id": "e58e0099",
   "metadata": {},
   "outputs": [
    {
     "data": {
      "text/plain": [
       "torch.Size([6131, 28, 28])"
      ]
     },
     "execution_count": 91,
     "metadata": {},
     "output_type": "execute_result"
    }
   ],
   "source": [
    "import torch\n",
    "\n",
    "train_stacked_7s = torch.stack(seven_tensors).float()/255\n",
    "train_stacked_3s = torch.stack(three_tensors).float()/255\n",
    "train_stacked_3s.shape\n"
   ]
  },
  {
   "cell_type": "code",
   "execution_count": 92,
   "id": "bd63174c",
   "metadata": {},
   "outputs": [
    {
     "data": {
      "text/plain": [
       "(3, 3)"
      ]
     },
     "execution_count": 92,
     "metadata": {},
     "output_type": "execute_result"
    }
   ],
   "source": [
    "# ==\n",
    "len(train_stacked_3s.shape),train_stacked_3s.ndim\n"
   ]
  },
  {
   "cell_type": "code",
   "execution_count": 93,
   "id": "49b64a95",
   "metadata": {},
   "outputs": [
    {
     "data": {
      "image/png": "[encoded data removed]",
      "text/plain": [
       "<Figure size 100x100 with 1 Axes>"
      ]
     },
     "metadata": {},
     "output_type": "display_data"
    }
   ],
   "source": [
    "mean3 = train_stacked_3s.mean(0)\n",
    "mean3.ndim # 2\n",
    "show_image(mean3);\n"
   ]
  },
  {
   "cell_type": "code",
   "execution_count": 94,
   "id": "9f6a1690",
   "metadata": {},
   "outputs": [
    {
     "data": {
      "image/png": "[encoded data removed]",
      "text/plain": [
       "<Figure size 100x100 with 1 Axes>"
      ]
     },
     "metadata": {},
     "output_type": "display_data"
    }
   ],
   "source": [
    "mean7 = train_stacked_7s.mean(0)\n",
    "show_image(mean7);\n"
   ]
  },
  {
   "cell_type": "code",
   "execution_count": 95,
   "id": "23885b72",
   "metadata": {},
   "outputs": [
    {
     "data": {
      "image/png": "[encoded data removed]",
      "text/plain": [
       "<Figure size 100x100 with 1 Axes>"
      ]
     },
     "metadata": {},
     "output_type": "display_data"
    }
   ],
   "source": [
    "a_3 = train_stacked_3s[1]\n",
    "show_image(a_3);\n"
   ]
  },
  {
   "cell_type": "code",
   "execution_count": 96,
   "id": "25ab2371",
   "metadata": {},
   "outputs": [
    {
     "data": {
      "text/plain": [
       "(tensor(0.1114), tensor(0.2021))"
      ]
     },
     "execution_count": 96,
     "metadata": {},
     "output_type": "execute_result"
    }
   ],
   "source": [
    "dist_3_abs = (a_3 - mean3).abs().mean() # L1 norm aka mean absolute difference\n",
    "dist_3_sqr = ((a_3 - mean3)**2).mean().sqrt() # L2 norm aka root mean squared error aka RMSE - penalizes bigger mistakes, more lenient with small mistakes\n",
    "dist_3_abs,dist_3_sqr\n"
   ]
  },
  {
   "cell_type": "code",
   "execution_count": 97,
   "id": "acae7192",
   "metadata": {},
   "outputs": [
    {
     "data": {
      "text/plain": [
       "(tensor(0.1586), tensor(0.3021))"
      ]
     },
     "execution_count": 97,
     "metadata": {},
     "output_type": "execute_result"
    }
   ],
   "source": [
    "dist_7_abs = (a_3 - mean7).abs().mean()\n",
    "dist_7_sqr = ((a_3 - mean7)**2).mean().sqrt()\n",
    "dist_7_abs,dist_7_sqr\n"
   ]
  },
  {
   "cell_type": "code",
   "execution_count": 98,
   "id": "4a235226",
   "metadata": {},
   "outputs": [
    {
     "data": {
      "text/plain": [
       "(tensor(0.1114), tensor(0.1586))"
      ]
     },
     "execution_count": 98,
     "metadata": {},
     "output_type": "execute_result"
    }
   ],
   "source": [
    "import torch.nn.functional as F\n",
    "\n",
    "F.l1_loss(a_3,mean3),F.l1_loss(a_3,mean7)\n"
   ]
  },
  {
   "cell_type": "code",
   "execution_count": 99,
   "id": "d2bc3cfc",
   "metadata": {
    "scrolled": true
   },
   "outputs": [
    {
     "data": {
      "text/plain": [
       "(tensor(0.2021), tensor(0.3021))"
      ]
     },
     "execution_count": 99,
     "metadata": {},
     "output_type": "execute_result"
    }
   ],
   "source": [
    "F.mse_loss(a_3,mean3).sqrt(),F.mse_loss(a_3,mean7).sqrt()\n"
   ]
  },
  {
   "cell_type": "markdown",
   "id": "48cdb41a",
   "metadata": {},
   "source": [
    "### Numpy Arrays and PyTorch Tensors"
   ]
  },
  {
   "cell_type": "code",
   "execution_count": 100,
   "id": "bb408cf1",
   "metadata": {},
   "outputs": [
    {
     "data": {
      "text/plain": [
       "(array([[1, 2, 3],\n",
       "        [4, 5, 6]]),\n",
       " numpy.ndarray)"
      ]
     },
     "execution_count": 100,
     "metadata": {},
     "output_type": "execute_result"
    }
   ],
   "source": [
    "data = [[1,2,3],[4,5,6]]\n",
    "arr = array(data)\n",
    "arr, arr.__class__\n"
   ]
  },
  {
   "cell_type": "code",
   "execution_count": 101,
   "id": "75304d0a",
   "metadata": {},
   "outputs": [
    {
     "data": {
      "text/plain": [
       "(tensor([[1, 2, 3],\n",
       "         [4, 5, 6]]),\n",
       " torch.Tensor)"
      ]
     },
     "execution_count": 101,
     "metadata": {},
     "output_type": "execute_result"
    }
   ],
   "source": [
    "tns = tensor(data)\n",
    "tns, tns.__class__\n"
   ]
  },
  {
   "cell_type": "code",
   "execution_count": 102,
   "id": "de8fd8a6",
   "metadata": {},
   "outputs": [
    {
     "data": {
      "text/plain": [
       "'torch.LongTensor'"
      ]
     },
     "execution_count": 102,
     "metadata": {},
     "output_type": "execute_result"
    }
   ],
   "source": [
    "tns.type()\n"
   ]
  },
  {
   "cell_type": "code",
   "execution_count": 103,
   "id": "60fc9cfb",
   "metadata": {},
   "outputs": [
    {
     "data": {
      "text/plain": [
       "'torch.FloatTensor'"
      ]
     },
     "execution_count": 103,
     "metadata": {},
     "output_type": "execute_result"
    }
   ],
   "source": [
    "tns2 = tns/2\n",
    "tns2.type()\n"
   ]
  },
  {
   "cell_type": "markdown",
   "id": "a27bca73",
   "metadata": {},
   "source": [
    "## Computing Metrics Using Broadcasting\n",
    "### Checking the baseline model for 3s and 7s"
   ]
  },
  {
   "cell_type": "code",
   "execution_count": 104,
   "id": "85ade5c6",
   "metadata": {},
   "outputs": [
    {
     "data": {
      "text/plain": [
       "(torch.Size([1010, 28, 28]), torch.Size([1028, 28, 28]))"
      ]
     },
     "execution_count": 104,
     "metadata": {},
     "output_type": "execute_result"
    }
   ],
   "source": [
    "valid_stacked_3s = torch.stack([tensor(Image.open(o)) for o in (path/'valid'/'3').ls()])\n",
    "valid_stacked_3s = valid_stacked_3s.float()/255\n",
    "valid_stacked_7s = torch.stack([tensor(Image.open(o)) for o in (path/'valid'/'7').ls()])\n",
    "valid_stacked_7s = valid_stacked_7s.float()/255\n",
    "\n",
    "valid_stacked_3s.shape, valid_stacked_7s.shape\n"
   ]
  },
  {
   "cell_type": "code",
   "execution_count": 105,
   "id": "7fcb8e64",
   "metadata": {},
   "outputs": [
    {
     "data": {
      "text/plain": [
       "tensor(0.1114)"
      ]
     },
     "execution_count": 105,
     "metadata": {},
     "output_type": "execute_result"
    }
   ],
   "source": [
    "def mnist_distance(a,b): return (a-b).abs().mean((-1,-2))\n",
    "\n",
    "mnist_distance(a_3, mean3)\n"
   ]
  },
  {
   "cell_type": "code",
   "execution_count": 106,
   "id": "b00b7290",
   "metadata": {},
   "outputs": [
    {
     "data": {
      "text/plain": [
       "(tensor([0.1634, 0.1145, 0.1363,  ..., 0.1105, 0.1111, 0.1640]),\n",
       " torch.Size([1010]))"
      ]
     },
     "execution_count": 106,
     "metadata": {},
     "output_type": "execute_result"
    }
   ],
   "source": [
    "valid_3_dist = mnist_distance(valid_stacked_3s, mean3)\n",
    "valid_3_dist, valid_3_dist.shape\n"
   ]
  },
  {
   "cell_type": "code",
   "execution_count": 107,
   "id": "be4e7f16",
   "metadata": {},
   "outputs": [
    {
     "name": "stdout",
     "output_type": "stream",
     "text": [
      "torch.Size([1010, 28, 28])\n"
     ]
    },
    {
     "data": {
      "text/plain": [
       "tensor([0.1634, 0.1145, 0.1363,  ..., 0.1105, 0.1111, 0.1640])"
      ]
     },
     "execution_count": 107,
     "metadata": {},
     "output_type": "execute_result"
    }
   ],
   "source": [
    "res = valid_stacked_3s - mean3\n",
    "print(res.shape)\n",
    "res.abs().mean((-1,-2))\n"
   ]
  },
  {
   "cell_type": "code",
   "execution_count": 108,
   "id": "8506ff24",
   "metadata": {},
   "outputs": [],
   "source": [
    "def is_3(x): return mnist_distance(x,mean3) < mnist_distance(x,mean7)\n"
   ]
  },
  {
   "cell_type": "code",
   "execution_count": 109,
   "id": "18b17817",
   "metadata": {},
   "outputs": [
    {
     "data": {
      "text/plain": [
       "(tensor(True), tensor(1.))"
      ]
     },
     "execution_count": 109,
     "metadata": {},
     "output_type": "execute_result"
    }
   ],
   "source": [
    "is_3(a_3), is_3(a_3).float()\n"
   ]
  },
  {
   "cell_type": "code",
   "execution_count": 110,
   "id": "a4c4cb0a",
   "metadata": {},
   "outputs": [
    {
     "data": {
      "text/plain": [
       "tensor([True, True, True,  ..., True, True, True])"
      ]
     },
     "execution_count": 110,
     "metadata": {},
     "output_type": "execute_result"
    }
   ],
   "source": [
    "is_3(valid_stacked_3s)\n"
   ]
  },
  {
   "cell_type": "code",
   "execution_count": 111,
   "id": "c12f519e",
   "metadata": {},
   "outputs": [
    {
     "data": {
      "text/plain": [
       "tensor([True, True, True,  ..., True, True, True])"
      ]
     },
     "execution_count": 111,
     "metadata": {},
     "output_type": "execute_result"
    }
   ],
   "source": [
    "is_3(valid_stacked_3s)\n"
   ]
  },
  {
   "cell_type": "code",
   "execution_count": 112,
   "id": "07b63f15",
   "metadata": {},
   "outputs": [
    {
     "data": {
      "text/plain": [
       "(tensor(0.9168), tensor(0.9854), tensor(0.9511), tensor(0.9511))"
      ]
     },
     "execution_count": 112,
     "metadata": {},
     "output_type": "execute_result"
    }
   ],
   "source": [
    "accuracy_3s =      is_3(valid_stacked_3s).float() .mean()\n",
    "accuracy_7s = (1 - is_3(valid_stacked_7s).float()).mean()\n",
    "\n",
    "accuracy_3s, accuracy_7s, (accuracy_3s+accuracy_7s)/2, (tensor(accuracy_3s, accuracy_7s)).mean()\n"
   ]
  },
  {
   "cell_type": "markdown",
   "id": "545ff513",
   "metadata": {},
   "source": [
    "## Stochastic Gradient Descent"
   ]
  },
  {
   "cell_type": "code",
   "execution_count": 113,
   "id": "89eea5ac",
   "metadata": {},
   "outputs": [],
   "source": [
    "def f(x): return x**2\n"
   ]
  },
  {
   "cell_type": "code",
   "execution_count": 114,
   "id": "593ef888",
   "metadata": {},
   "outputs": [
    {
     "data": {
      "image/png": "[encoded data removed]",
      "text/plain": [
       "<Figure size 600x400 with 1 Axes>"
      ]
     },
     "metadata": {},
     "output_type": "display_data"
    }
   ],
   "source": [
    "from fastbook import plot_function\n",
    "\n",
    "plot_function(f, 'x', 'x**2')\n"
   ]
  },
  {
   "cell_type": "code",
   "execution_count": 115,
   "id": "6bb95ae9",
   "metadata": {},
   "outputs": [
    {
     "data": {
      "image/png": "[encoded data removed]",
      "text/plain": [
       "<Figure size 600x400 with 1 Axes>"
      ]
     },
     "metadata": {},
     "output_type": "display_data"
    }
   ],
   "source": [
    "from matplotlib import pyplot as plt\n",
    "\n",
    "plot_function(f, 'x', 'x**2')\n",
    "plt.scatter(-1.5, f(-1.5), color='red');\n"
   ]
  },
  {
   "cell_type": "code",
   "execution_count": 116,
   "id": "fef591a6",
   "metadata": {},
   "outputs": [],
   "source": [
    "xt = tensor(3.).requires_grad_()\n"
   ]
  },
  {
   "cell_type": "code",
   "execution_count": 117,
   "id": "05938715",
   "metadata": {},
   "outputs": [
    {
     "data": {
      "text/plain": [
       "tensor(9., grad_fn=<PowBackward0>)"
      ]
     },
     "execution_count": 117,
     "metadata": {},
     "output_type": "execute_result"
    }
   ],
   "source": [
    "yt = f(xt)\n",
    "yt\n"
   ]
  },
  {
   "cell_type": "code",
   "execution_count": 118,
   "id": "93c70ffe",
   "metadata": {},
   "outputs": [],
   "source": [
    "yt.backward()\n"
   ]
  },
  {
   "cell_type": "code",
   "execution_count": 119,
   "id": "f5915b13",
   "metadata": {},
   "outputs": [
    {
     "data": {
      "text/plain": [
       "tensor(6.)"
      ]
     },
     "execution_count": 119,
     "metadata": {},
     "output_type": "execute_result"
    }
   ],
   "source": [
    "xt.grad\n"
   ]
  },
  {
   "cell_type": "code",
   "execution_count": 120,
   "id": "5f8771f4",
   "metadata": {},
   "outputs": [
    {
     "data": {
      "text/plain": [
       "tensor([ 3.,  4., 10.], requires_grad=True)"
      ]
     },
     "execution_count": 120,
     "metadata": {},
     "output_type": "execute_result"
    }
   ],
   "source": [
    "xt = tensor([3.,4.,10.]).requires_grad_()\n",
    "xt\n"
   ]
  },
  {
   "cell_type": "code",
   "execution_count": 121,
   "id": "4abe71bf",
   "metadata": {},
   "outputs": [
    {
     "data": {
      "text/plain": [
       "tensor(125., grad_fn=<SumBackward0>)"
      ]
     },
     "execution_count": 121,
     "metadata": {},
     "output_type": "execute_result"
    }
   ],
   "source": [
    "def f(x): return (x**2).sum()\n",
    "\n",
    "yt = f(xt)\n",
    "yt\n"
   ]
  },
  {
   "cell_type": "code",
   "execution_count": 122,
   "id": "dd5f01ca",
   "metadata": {},
   "outputs": [
    {
     "data": {
      "text/plain": [
       "tensor([ 6.,  8., 20.])"
      ]
     },
     "execution_count": 122,
     "metadata": {},
     "output_type": "execute_result"
    }
   ],
   "source": [
    "yt.backward()\n",
    "xt.grad\n"
   ]
  },
  {
   "cell_type": "markdown",
   "id": "4651860e",
   "metadata": {},
   "source": [
    "## End-to-end SGD example"
   ]
  },
  {
   "cell_type": "code",
   "execution_count": 123,
   "id": "a907a97c",
   "metadata": {},
   "outputs": [
    {
     "data": {
      "text/plain": [
       "tensor([ 0,  1,  2,  3,  4,  5,  6,  7,  8,  9, 10, 11, 12, 13, 14, 15, 16, 17, 18, 19])"
      ]
     },
     "execution_count": 123,
     "metadata": {},
     "output_type": "execute_result"
    }
   ],
   "source": [
    "time = torch.arange(0,20); time\n"
   ]
  },
  {
   "cell_type": "code",
   "execution_count": 124,
   "id": "43fceb24",
   "metadata": {},
   "outputs": [],
   "source": [
    "# this actually looks much better without the \"time-9.5\"\n",
    "speed = torch.randn(20)*3 + 0.75*(time-9.5)**2 + 1\n"
   ]
  },
  {
   "cell_type": "code",
   "execution_count": 125,
   "id": "dc382c3b",
   "metadata": {},
   "outputs": [
    {
     "data": {
      "image/png": "[encoded data removed]",
      "text/plain": [
       "<Figure size 640x480 with 1 Axes>"
      ]
     },
     "metadata": {},
     "output_type": "display_data"
    }
   ],
   "source": [
    "plt.scatter(time,speed);\n"
   ]
  },
  {
   "cell_type": "code",
   "execution_count": 126,
   "id": "90ecd7a9",
   "metadata": {},
   "outputs": [],
   "source": [
    "def f(t, params):\n",
    "    a,b,c = params\n",
    "    return a*(t**2) + (b*t) + c\n"
   ]
  },
  {
   "cell_type": "code",
   "execution_count": 127,
   "id": "b1d30454",
   "metadata": {},
   "outputs": [],
   "source": [
    "def mse(preds, targets): return ((preds-targets)**2).mean()  # for continuous data (like this), it's common to use mse\n"
   ]
  },
  {
   "cell_type": "markdown",
   "id": "c6574fa5",
   "metadata": {},
   "source": [
    "#### 1 - initialize the parameters"
   ]
  },
  {
   "cell_type": "code",
   "execution_count": 128,
   "id": "82855767",
   "metadata": {},
   "outputs": [
    {
     "name": "stdout",
     "output_type": "stream",
     "text": [
      "tensor([-0.6467, -0.5207,  1.1711], requires_grad=True)\n"
     ]
    }
   ],
   "source": [
    "params = torch.randn(3).requires_grad_()\n",
    "print(params)\n",
    "orig_params = params.clone()\n"
   ]
  },
  {
   "cell_type": "markdown",
   "id": "c7d409b2",
   "metadata": {},
   "source": [
    "#### 2 - calculate the predictions"
   ]
  },
  {
   "cell_type": "code",
   "execution_count": 129,
   "id": "4523a883",
   "metadata": {},
   "outputs": [],
   "source": [
    "preds = f(time, params)\n"
   ]
  },
  {
   "cell_type": "code",
   "execution_count": 130,
   "id": "2422155c",
   "metadata": {},
   "outputs": [
    {
     "data": {
      "image/png": "[encoded data removed]",
      "text/plain": [
       "<Figure size 640x480 with 1 Axes>"
      ]
     },
     "metadata": {},
     "output_type": "display_data"
    }
   ],
   "source": [
    "from fastai.torch_core import to_np\n",
    "\n",
    "def show_preds(preds, ax=None):\n",
    "    if ax is None: ax=plt.subplots()[1]\n",
    "    ax.scatter(time, speed)\n",
    "    ax.scatter(time, to_np(preds), color='red')\n",
    "    ax.set_ylim(-300,100)\n",
    "show_preds(preds)\n"
   ]
  },
  {
   "cell_type": "markdown",
   "id": "aab85e20",
   "metadata": {},
   "source": [
    "#### 3 - calculate the loss"
   ]
  },
  {
   "cell_type": "code",
   "execution_count": 131,
   "id": "36ba2bb3",
   "metadata": {},
   "outputs": [
    {
     "data": {
      "text/plain": [
       "tensor(19401.6758, grad_fn=<MeanBackward0>)"
      ]
     },
     "execution_count": 131,
     "metadata": {},
     "output_type": "execute_result"
    }
   ],
   "source": [
    "loss = mse(preds, speed); loss\n"
   ]
  },
  {
   "cell_type": "markdown",
   "id": "f9d701e4",
   "metadata": {},
   "source": [
    "#### 4 - calculate the gradients"
   ]
  },
  {
   "cell_type": "code",
   "execution_count": 132,
   "id": "8d252a89",
   "metadata": {},
   "outputs": [
    {
     "data": {
      "text/plain": [
       "tensor([-45952.6406,  -2951.4680,   -220.8227])"
      ]
     },
     "execution_count": 132,
     "metadata": {},
     "output_type": "execute_result"
    }
   ],
   "source": [
    "loss.backward()\n",
    "params.grad\n"
   ]
  },
  {
   "cell_type": "code",
   "execution_count": 133,
   "id": "b4ba3e70",
   "metadata": {},
   "outputs": [
    {
     "data": {
      "text/plain": [
       "tensor([-0.6467, -0.5207,  1.1711], requires_grad=True)"
      ]
     },
     "execution_count": 133,
     "metadata": {},
     "output_type": "execute_result"
    }
   ],
   "source": [
    "params\n"
   ]
  },
  {
   "cell_type": "markdown",
   "id": "0b2820a3",
   "metadata": {},
   "source": [
    "#### 5 - step the weights"
   ]
  },
  {
   "cell_type": "code",
   "execution_count": 134,
   "id": "a3038163",
   "metadata": {},
   "outputs": [
    {
     "data": {
      "text/plain": [
       "tensor([-0.1871, -0.4912,  1.1733], requires_grad=True)"
      ]
     },
     "execution_count": 134,
     "metadata": {},
     "output_type": "execute_result"
    }
   ],
   "source": [
    "lr = 1e-5\n",
    "params.data -= lr * params.grad\n",
    "params.grad = None\n",
    "\n",
    "params\n"
   ]
  },
  {
   "cell_type": "code",
   "execution_count": 135,
   "id": "0f23ca6e",
   "metadata": {},
   "outputs": [
    {
     "data": {
      "text/plain": [
       "tensor(4187.6997, grad_fn=<MeanBackward0>)"
      ]
     },
     "execution_count": 135,
     "metadata": {},
     "output_type": "execute_result"
    }
   ],
   "source": [
    "preds = f(time,params)\n",
    "mse(preds, speed)\n"
   ]
  },
  {
   "cell_type": "code",
   "execution_count": 136,
   "id": "d8bb6628",
   "metadata": {},
   "outputs": [
    {
     "data": {
      "image/png": "[encoded data removed]",
      "text/plain": [
       "<Figure size 640x480 with 1 Axes>"
      ]
     },
     "metadata": {},
     "output_type": "display_data"
    }
   ],
   "source": [
    "show_preds(preds)\n"
   ]
  },
  {
   "cell_type": "code",
   "execution_count": 137,
   "id": "482b6f79",
   "metadata": {},
   "outputs": [],
   "source": [
    "def apply_step(params, prn=True):\n",
    "    preds = f(time, params) # 2 - calculate predictions\n",
    "    loss = mse(preds, speed) # 3 - calculate loss\n",
    "    loss.backward() # 4 - calculate gradients\n",
    "    params.data -= lr * params.grad.data # 5 - step weights\n",
    "    params.grad = None\n",
    "    if prn: print(loss.item())\n",
    "    return preds\n"
   ]
  },
  {
   "cell_type": "markdown",
   "id": "3c5bc240",
   "metadata": {},
   "source": [
    "#### 6 - repeat the process"
   ]
  },
  {
   "cell_type": "code",
   "execution_count": 138,
   "id": "73343c2e",
   "metadata": {},
   "outputs": [
    {
     "name": "stdout",
     "output_type": "stream",
     "text": [
      "4187.69970703125\n",
      "1308.7464599609375\n",
      "763.9578857421875\n",
      "660.8641967773438\n",
      "641.3527221679688\n",
      "637.6576538085938\n",
      "636.9554443359375\n",
      "636.819580078125\n",
      "636.7908935546875\n",
      "636.7825317382812\n"
     ]
    }
   ],
   "source": [
    "for i in range(10): apply_step(params)\n"
   ]
  },
  {
   "cell_type": "code",
   "execution_count": 139,
   "id": "1f2e4e06",
   "metadata": {},
   "outputs": [
    {
     "data": {
      "image/png": "[encoded data removed]",
      "text/plain": [
       "<Figure size 1200x300 with 4 Axes>"
      ]
     },
     "metadata": {},
     "output_type": "display_data"
    }
   ],
   "source": [
    "params = orig_params.detach().requires_grad_()\n",
    "\n",
    "_,axs = plt.subplots(1,4,figsize=(12,3))\n",
    "for ax in axs: show_preds(apply_step(params, False), ax)\n",
    "plt.tight_layout()\n"
   ]
  },
  {
   "cell_type": "markdown",
   "id": "cdef5525",
   "metadata": {},
   "source": [
    "#### 7 - stop"
   ]
  },
  {
   "cell_type": "markdown",
   "id": "e2c2048c",
   "metadata": {},
   "source": [
    "## The MNIST Loss Function"
   ]
  },
  {
   "cell_type": "code",
   "execution_count": 140,
   "id": "984e8791",
   "metadata": {},
   "outputs": [
    {
     "data": {
      "text/plain": [
       "torch.Size([12396, 784])"
      ]
     },
     "execution_count": 140,
     "metadata": {},
     "output_type": "execute_result"
    }
   ],
   "source": [
    "train_x = torch.cat([train_stacked_3s, train_stacked_7s]).view(-1,28*28)\n",
    "train_x.shape\n"
   ]
  },
  {
   "cell_type": "code",
   "execution_count": 141,
   "id": "7a15763b",
   "metadata": {},
   "outputs": [
    {
     "data": {
      "text/plain": [
       "(torch.Size([12396, 784]), torch.Size([12396, 1]))"
      ]
     },
     "execution_count": 141,
     "metadata": {},
     "output_type": "execute_result"
    }
   ],
   "source": [
    "train_y = tensor([1]*len(three_paths) + [0]*len(seven_paths)).unsqueeze(1)\n",
    "train_x.shape, train_y.shape\n"
   ]
  },
  {
   "cell_type": "code",
   "execution_count": 142,
   "id": "3d75dbff",
   "metadata": {},
   "outputs": [
    {
     "data": {
      "text/plain": [
       "(torch.Size([784]), tensor([1]))"
      ]
     },
     "execution_count": 142,
     "metadata": {},
     "output_type": "execute_result"
    }
   ],
   "source": [
    "dset = list(zip(train_x,train_y))\n",
    "x,y = dset[0]\n",
    "x.shape, y\n"
   ]
  },
  {
   "cell_type": "code",
   "execution_count": 143,
   "id": "47d52368",
   "metadata": {},
   "outputs": [
    {
     "data": {
      "text/plain": [
       "(torch.Size([784]), tensor([1]))"
      ]
     },
     "execution_count": 143,
     "metadata": {},
     "output_type": "execute_result"
    }
   ],
   "source": [
    "valid_x = torch.cat([valid_stacked_3s, valid_stacked_7s]).view(-1,28*28)\n",
    "valid_y = tensor([1]*len(valid_stacked_3s) + [0]*len(valid_stacked_7s)).unsqueeze(1)\n",
    "valid_dset = list(zip(valid_x, valid_y))\n",
    "valid_x,valid_y = valid_dset[0]\n",
    "valid_x.shape, valid_y\n"
   ]
  },
  {
   "cell_type": "code",
   "execution_count": 144,
   "id": "7747ed25",
   "metadata": {},
   "outputs": [],
   "source": [
    "# 1 - initialize\n",
    "def init_params(size, std=1.0): return (torch.randn(size)*std).requires_grad_()\n"
   ]
  },
  {
   "cell_type": "code",
   "execution_count": 145,
   "id": "181fa811",
   "metadata": {},
   "outputs": [
    {
     "name": "stdout",
     "output_type": "stream",
     "text": [
      "torch.Size([784, 1])\n"
     ]
    },
    {
     "data": {
      "text/plain": [
       "tensor([[ 1.6714e+00],\n",
       "        [-4.9412e-01],\n",
       "        [ 9.5992e-01],\n",
       "        [ 5.8009e-01],\n",
       "        [-1.0223e+00],\n",
       "        [-7.0839e-01],\n",
       "        [ 5.9592e-02],\n",
       "        [-6.8633e-01],\n",
       "        [ 6.5447e-01],\n",
       "        [-1.4683e-01],\n",
       "        [ 1.4138e+00],\n",
       "        [-5.8905e-01],\n",
       "        [-5.8013e-01],\n",
       "        [ 7.4109e-01],\n",
       "        [ 1.8646e+00],\n",
       "        [-1.3074e+00],\n",
       "        [-4.0066e-01],\n",
       "        [-1.5425e+00],\n",
       "        [ 1.1432e+00],\n",
       "        [ 1.3563e+00],\n",
       "        [-1.2485e+00],\n",
       "        [-2.5727e-02],\n",
       "        [ 1.9367e+00],\n",
       "        [-9.1970e-01],\n",
       "        [ 5.3585e-01],\n",
       "        [ 5.4134e-01],\n",
       "        [-1.2874e+00],\n",
       "        [-1.2039e+00],\n",
       "        [-6.5810e-01],\n",
       "        [-3.5780e-01],\n",
       "        [ 4.2016e-01],\n",
       "        [-6.8256e-03],\n",
       "        [-3.1888e-01],\n",
       "        [-4.9083e-01],\n",
       "        [-4.8581e-01],\n",
       "        [-4.9008e-01],\n",
       "        [ 9.2064e-01],\n",
       "        [-6.2857e-01],\n",
       "        [ 6.6634e-01],\n",
       "        [-3.5470e-02],\n",
       "        [-1.3073e-01],\n",
       "        [-1.4062e+00],\n",
       "        [ 2.7282e-01],\n",
       "        [ 7.3242e-01],\n",
       "        [ 1.7147e+00],\n",
       "        [-2.6879e+00],\n",
       "        [-4.2423e-02],\n",
       "        [ 7.0857e-01],\n",
       "        [-1.0139e+00],\n",
       "        [-5.3150e-01],\n",
       "        [ 1.2571e+00],\n",
       "        [ 5.7634e-01],\n",
       "        [-9.7726e-01],\n",
       "        [-1.5335e+00],\n",
       "        [ 7.9825e-01],\n",
       "        [-5.0785e-01],\n",
       "        [ 1.2784e+00],\n",
       "        [-1.5634e+00],\n",
       "        [-1.7502e+00],\n",
       "        [ 9.1568e-01],\n",
       "        [-7.0375e-01],\n",
       "        [ 1.2994e+00],\n",
       "        [-1.6580e+00],\n",
       "        [ 3.1505e+00],\n",
       "        [-1.0221e+00],\n",
       "        [ 1.6795e-01],\n",
       "        [-3.2897e-02],\n",
       "        [ 3.6551e-01],\n",
       "        [-3.9897e-02],\n",
       "        [-1.2108e+00],\n",
       "        [-1.6997e+00],\n",
       "        [-4.8199e-01],\n",
       "        [-6.9786e-01],\n",
       "        [ 1.7839e+00],\n",
       "        [ 2.9088e-01],\n",
       "        [-1.6862e-01],\n",
       "        [-7.4672e-01],\n",
       "        [ 1.4041e+00],\n",
       "        [-8.4729e-01],\n",
       "        [-3.3594e-01],\n",
       "        [ 9.0904e-01],\n",
       "        [ 2.9769e-01],\n",
       "        [-4.4560e-01],\n",
       "        [ 1.8833e+00],\n",
       "        [-1.2941e+00],\n",
       "        [-1.2332e+00],\n",
       "        [ 8.5197e-01],\n",
       "        [ 1.6401e+00],\n",
       "        [-1.0458e+00],\n",
       "        [-8.4199e-01],\n",
       "        [-5.1154e-01],\n",
       "        [-9.5441e-02],\n",
       "        [ 8.8918e-03],\n",
       "        [-9.7467e-01],\n",
       "        [-1.3458e-01],\n",
       "        [-1.4518e-01],\n",
       "        [ 4.6350e-01],\n",
       "        [ 6.8451e-01],\n",
       "        [ 1.5184e+00],\n",
       "        [-9.1494e-01],\n",
       "        [ 2.2516e+00],\n",
       "        [-3.6809e-01],\n",
       "        [-1.0801e+00],\n",
       "        [ 1.9882e+00],\n",
       "        [ 6.8339e-01],\n",
       "        [ 2.3535e+00],\n",
       "        [ 4.3353e-02],\n",
       "        [ 5.8049e-01],\n",
       "        [ 6.6794e-01],\n",
       "        [ 6.4496e-01],\n",
       "        [-1.5225e+00],\n",
       "        [-2.6157e+00],\n",
       "        [-1.6733e+00],\n",
       "        [ 9.2320e-01],\n",
       "        [-2.0498e-02],\n",
       "        [ 4.8796e-01],\n",
       "        [ 3.7779e-01],\n",
       "        [-1.0574e+00],\n",
       "        [ 2.5332e+00],\n",
       "        [-1.1567e+00],\n",
       "        [ 4.6348e-01],\n",
       "        [ 1.4676e+00],\n",
       "        [ 1.5677e+00],\n",
       "        [ 4.2785e-01],\n",
       "        [-2.7327e-01],\n",
       "        [ 5.9404e-01],\n",
       "        [ 9.7170e-01],\n",
       "        [-4.0528e-01],\n",
       "        [ 1.1887e+00],\n",
       "        [ 1.0021e+00],\n",
       "        [-1.4647e+00],\n",
       "        [-3.0163e-02],\n",
       "        [-1.1644e-01],\n",
       "        [ 3.8502e-01],\n",
       "        [ 8.7680e-01],\n",
       "        [-2.1163e-01],\n",
       "        [ 3.5201e-01],\n",
       "        [-3.8619e-01],\n",
       "        [ 3.5679e-01],\n",
       "        [ 1.7114e+00],\n",
       "        [ 2.1665e-01],\n",
       "        [ 3.1705e-01],\n",
       "        [-7.2365e-01],\n",
       "        [ 1.7157e-01],\n",
       "        [ 5.2633e-01],\n",
       "        [ 1.2554e-01],\n",
       "        [-1.7527e+00],\n",
       "        [ 7.7516e-01],\n",
       "        [-1.0627e-01],\n",
       "        [ 8.9080e-01],\n",
       "        [-7.7323e-01],\n",
       "        [ 1.3246e+00],\n",
       "        [-4.6587e-01],\n",
       "        [ 4.9164e-01],\n",
       "        [-2.6584e-01],\n",
       "        [ 7.2558e-01],\n",
       "        [ 1.0841e+00],\n",
       "        [-3.5993e-01],\n",
       "        [-2.5479e-02],\n",
       "        [-1.5332e-01],\n",
       "        [ 2.0671e-01],\n",
       "        [-4.8915e-01],\n",
       "        [ 2.4437e-01],\n",
       "        [ 1.9228e+00],\n",
       "        [-2.2238e-01],\n",
       "        [ 1.1293e+00],\n",
       "        [-8.3386e-01],\n",
       "        [-1.3196e+00],\n",
       "        [-1.0103e+00],\n",
       "        [ 5.2624e-01],\n",
       "        [-6.2427e-01],\n",
       "        [ 1.4275e+00],\n",
       "        [ 4.4275e-01],\n",
       "        [-1.2645e+00],\n",
       "        [-1.1236e+00],\n",
       "        [ 5.8674e-01],\n",
       "        [-4.6168e-01],\n",
       "        [ 3.4847e-01],\n",
       "        [ 3.6486e-01],\n",
       "        [-2.9142e-02],\n",
       "        [ 1.1481e+00],\n",
       "        [-1.1587e+00],\n",
       "        [ 1.6383e-01],\n",
       "        [-5.4824e-01],\n",
       "        [ 8.6798e-01],\n",
       "        [-5.5824e-01],\n",
       "        [-1.7682e+00],\n",
       "        [ 1.1501e+00],\n",
       "        [ 3.8754e-02],\n",
       "        [-7.6379e-01],\n",
       "        [-2.0094e+00],\n",
       "        [-5.1114e-01],\n",
       "        [ 9.4158e-01],\n",
       "        [ 4.4142e-01],\n",
       "        [ 1.6581e+00],\n",
       "        [ 2.5313e-01],\n",
       "        [-7.9018e-01],\n",
       "        [ 1.3514e+00],\n",
       "        [-7.2347e-02],\n",
       "        [ 2.0860e+00],\n",
       "        [ 1.7236e+00],\n",
       "        [ 1.5210e-01],\n",
       "        [ 2.0150e-01],\n",
       "        [-5.9607e-01],\n",
       "        [-1.5546e+00],\n",
       "        [ 1.5110e+00],\n",
       "        [-1.4638e+00],\n",
       "        [-5.8892e-01],\n",
       "        [-3.0816e-02],\n",
       "        [-1.7374e+00],\n",
       "        [ 1.2176e+00],\n",
       "        [-1.0472e+00],\n",
       "        [ 1.5085e+00],\n",
       "        [-1.4027e+00],\n",
       "        [-1.3391e+00],\n",
       "        [-2.1181e+00],\n",
       "        [-1.1409e-01],\n",
       "        [-9.7614e-01],\n",
       "        [ 4.8648e-01],\n",
       "        [-6.9633e-01],\n",
       "        [ 1.9266e+00],\n",
       "        [-2.0345e+00],\n",
       "        [-8.2894e-01],\n",
       "        [-1.4974e-01],\n",
       "        [ 3.2628e-01],\n",
       "        [-1.4103e-01],\n",
       "        [ 8.0080e-01],\n",
       "        [ 9.2507e-01],\n",
       "        [ 1.6376e+00],\n",
       "        [-9.2971e-01],\n",
       "        [-8.5412e-01],\n",
       "        [ 1.5930e-01],\n",
       "        [-4.8767e-01],\n",
       "        [ 6.4704e-01],\n",
       "        [-1.8527e+00],\n",
       "        [-1.3659e+00],\n",
       "        [ 4.5045e-01],\n",
       "        [-1.7838e-02],\n",
       "        [ 5.8224e-01],\n",
       "        [ 9.5111e-01],\n",
       "        [ 1.2538e+00],\n",
       "        [ 9.0183e-02],\n",
       "        [ 1.9940e+00],\n",
       "        [-6.0499e-01],\n",
       "        [ 4.5045e-01],\n",
       "        [-3.8605e-01],\n",
       "        [ 6.5566e-01],\n",
       "        [-7.4714e-01],\n",
       "        [-9.7193e-01],\n",
       "        [-1.0718e+00],\n",
       "        [ 1.2559e+00],\n",
       "        [-2.1945e-01],\n",
       "        [ 1.5598e+00],\n",
       "        [-5.2877e-02],\n",
       "        [ 3.7926e-01],\n",
       "        [ 9.8457e-01],\n",
       "        [ 6.3513e-01],\n",
       "        [ 2.0356e-01],\n",
       "        [-1.8102e-01],\n",
       "        [-9.3004e-01],\n",
       "        [ 4.7256e-01],\n",
       "        [-1.0090e+00],\n",
       "        [-1.2626e+00],\n",
       "        [-1.7464e-01],\n",
       "        [ 1.8163e+00],\n",
       "        [ 2.0682e-01],\n",
       "        [ 1.1983e-01],\n",
       "        [ 9.6097e-01],\n",
       "        [-1.2074e+00],\n",
       "        [ 1.7985e-01],\n",
       "        [-1.9806e+00],\n",
       "        [ 6.4279e-01],\n",
       "        [ 2.1726e+00],\n",
       "        [ 2.2334e+00],\n",
       "        [ 2.2254e-01],\n",
       "        [-9.3002e-01],\n",
       "        [ 3.2085e-01],\n",
       "        [ 3.7142e-02],\n",
       "        [ 1.7086e-01],\n",
       "        [-7.2674e-01],\n",
       "        [-5.6489e-03],\n",
       "        [ 3.1844e-01],\n",
       "        [-2.4028e-01],\n",
       "        [-2.5279e-01],\n",
       "        [-2.3367e-01],\n",
       "        [ 1.5783e+00],\n",
       "        [-3.1826e-01],\n",
       "        [-2.8947e-01],\n",
       "        [-6.6598e-01],\n",
       "        [-1.7441e+00],\n",
       "        [ 1.1392e-01],\n",
       "        [-1.9157e-01],\n",
       "        [ 2.5826e+00],\n",
       "        [-6.4609e-01],\n",
       "        [ 1.4227e-01],\n",
       "        [-9.3538e-01],\n",
       "        [ 1.0502e+00],\n",
       "        [ 7.9947e-01],\n",
       "        [ 1.9266e-01],\n",
       "        [-4.0985e-01],\n",
       "        [ 1.2105e+00],\n",
       "        [-1.6804e-01],\n",
       "        [-5.2959e-01],\n",
       "        [-6.4490e-01],\n",
       "        [-1.1182e+00],\n",
       "        [-5.9130e-01],\n",
       "        [ 5.2878e-01],\n",
       "        [-9.8808e-01],\n",
       "        [ 9.8331e-02],\n",
       "        [ 3.1493e-01],\n",
       "        [-2.9426e-01],\n",
       "        [-1.3962e+00],\n",
       "        [ 6.4884e-01],\n",
       "        [-1.1632e+00],\n",
       "        [-7.6996e-01],\n",
       "        [ 2.4748e-01],\n",
       "        [ 8.2032e-01],\n",
       "        [ 5.0483e-01],\n",
       "        [ 6.7073e-01],\n",
       "        [-2.8945e+00],\n",
       "        [-1.9722e-01],\n",
       "        [-6.0418e-01],\n",
       "        [ 1.2439e+00],\n",
       "        [-1.7002e+00],\n",
       "        [-1.2209e+00],\n",
       "        [-1.3159e+00],\n",
       "        [-1.8084e+00],\n",
       "        [-4.7999e-01],\n",
       "        [-3.5429e-01],\n",
       "        [ 8.8930e-01],\n",
       "        [ 8.9243e-01],\n",
       "        [ 1.3710e+00],\n",
       "        [ 7.8215e-01],\n",
       "        [-3.0908e-01],\n",
       "        [ 6.5094e-01],\n",
       "        [-1.5479e+00],\n",
       "        [-1.4861e+00],\n",
       "        [ 2.7691e-01],\n",
       "        [-3.3284e-02],\n",
       "        [-1.9359e-01],\n",
       "        [-7.6710e-01],\n",
       "        [ 1.0418e+00],\n",
       "        [-5.9399e-01],\n",
       "        [-9.9079e-01],\n",
       "        [ 1.1673e+00],\n",
       "        [ 7.9306e-01],\n",
       "        [-2.2516e-01],\n",
       "        [ 7.2149e-01],\n",
       "        [ 1.2578e-01],\n",
       "        [ 1.4051e+00],\n",
       "        [ 1.9477e-01],\n",
       "        [-4.7418e-01],\n",
       "        [ 9.8389e-01],\n",
       "        [-6.0601e-02],\n",
       "        [-3.8415e-01],\n",
       "        [-9.2175e-01],\n",
       "        [-4.8728e-01],\n",
       "        [-5.0744e-01],\n",
       "        [ 5.5227e-01],\n",
       "        [ 6.1027e-02],\n",
       "        [-5.8179e-01],\n",
       "        [ 8.6469e-01],\n",
       "        [ 1.3942e+00],\n",
       "        [-2.7547e-01],\n",
       "        [-5.1640e-01],\n",
       "        [ 1.5487e-01],\n",
       "        [-8.3489e-01],\n",
       "        [ 2.2886e-01],\n",
       "        [ 2.1445e-01],\n",
       "        [-2.6712e-01],\n",
       "        [-3.4790e-01],\n",
       "        [ 5.3776e-01],\n",
       "        [-9.2909e-01],\n",
       "        [ 1.1322e+00],\n",
       "        [-7.3277e-01],\n",
       "        [ 1.1510e+00],\n",
       "        [ 1.4926e+00],\n",
       "        [ 1.1447e+00],\n",
       "        [ 2.7345e-01],\n",
       "        [ 6.6513e-01],\n",
       "        [ 1.0538e+00],\n",
       "        [ 7.2695e-01],\n",
       "        [-1.8566e+00],\n",
       "        [-1.5076e+00],\n",
       "        [-1.3884e-01],\n",
       "        [-4.3200e-01],\n",
       "        [-4.0932e-01],\n",
       "        [-7.2190e-02],\n",
       "        [-5.8912e-01],\n",
       "        [ 1.1397e+00],\n",
       "        [ 3.7588e-01],\n",
       "        [-2.6493e+00],\n",
       "        [-1.2377e+00],\n",
       "        [-3.4615e-01],\n",
       "        [ 3.0197e-01],\n",
       "        [-8.5058e-01],\n",
       "        [-1.3140e+00],\n",
       "        [ 3.6990e-01],\n",
       "        [ 1.2831e+00],\n",
       "        [-2.8041e-01],\n",
       "        [ 1.1300e+00],\n",
       "        [-1.6129e+00],\n",
       "        [ 4.4509e-01],\n",
       "        [ 5.1412e-02],\n",
       "        [-3.5014e-01],\n",
       "        [-1.0067e+00],\n",
       "        [ 6.7067e-04],\n",
       "        [-1.2675e-02],\n",
       "        [-1.0313e+00],\n",
       "        [-3.4314e-01],\n",
       "        [-5.0407e-01],\n",
       "        [ 7.2513e-02],\n",
       "        [-1.0780e+00],\n",
       "        [-3.9549e-01],\n",
       "        [ 1.4394e+00],\n",
       "        [-9.4881e-01],\n",
       "        [ 9.7716e-02],\n",
       "        [ 1.0528e+00],\n",
       "        [-1.1113e+00],\n",
       "        [-9.3896e-01],\n",
       "        [-1.3076e+00],\n",
       "        [ 9.6761e-01],\n",
       "        [ 2.1622e-01],\n",
       "        [ 9.5938e-01],\n",
       "        [ 8.0601e-02],\n",
       "        [-1.8930e+00],\n",
       "        [ 5.6509e-01],\n",
       "        [ 8.4126e-01],\n",
       "        [-9.5809e-01],\n",
       "        [-7.8952e-01],\n",
       "        [ 1.5681e+00],\n",
       "        [ 1.5774e+00],\n",
       "        [-5.3719e-02],\n",
       "        [-7.7341e-01],\n",
       "        [-1.3838e+00],\n",
       "        [ 9.7823e-01],\n",
       "        [ 1.2639e+00],\n",
       "        [-2.0510e+00],\n",
       "        [-6.3003e-01],\n",
       "        [-2.1408e-01],\n",
       "        [-1.8226e+00],\n",
       "        [-1.3436e-01],\n",
       "        [ 4.9848e-01],\n",
       "        [ 3.9305e-01],\n",
       "        [-6.5777e-01],\n",
       "        [ 2.4517e-01],\n",
       "        [ 4.1156e-01],\n",
       "        [ 7.4113e-01],\n",
       "        [-8.2026e-01],\n",
       "        [-8.2023e-01],\n",
       "        [ 9.1190e-01],\n",
       "        [-1.6227e+00],\n",
       "        [ 6.5285e-01],\n",
       "        [ 4.7425e-01],\n",
       "        [-1.1011e+00],\n",
       "        [-5.3205e-01],\n",
       "        [ 5.9436e-01],\n",
       "        [-1.4299e+00],\n",
       "        [-7.1364e-01],\n",
       "        [-1.6181e+00],\n",
       "        [-9.2078e-01],\n",
       "        [-9.4513e-01],\n",
       "        [-1.3551e+00],\n",
       "        [-1.0257e+00],\n",
       "        [ 9.8965e-01],\n",
       "        [ 1.1855e-01],\n",
       "        [ 9.8384e-01],\n",
       "        [-2.4790e+00],\n",
       "        [ 1.0514e+00],\n",
       "        [ 7.0518e-01],\n",
       "        [-4.7669e-01],\n",
       "        [-3.2834e-01],\n",
       "        [-1.0891e+00],\n",
       "        [-1.2615e+00],\n",
       "        [-2.0549e+00],\n",
       "        [ 6.1029e-01],\n",
       "        [ 1.0775e+00],\n",
       "        [-8.8969e-01],\n",
       "        [ 2.3869e+00],\n",
       "        [-3.5657e-01],\n",
       "        [ 2.8287e-01],\n",
       "        [ 2.5598e-01],\n",
       "        [-1.0973e+00],\n",
       "        [ 8.4436e-01],\n",
       "        [ 1.2230e+00],\n",
       "        [-6.0718e-01],\n",
       "        [-1.8007e+00],\n",
       "        [ 1.8074e+00],\n",
       "        [-1.7258e+00],\n",
       "        [-3.2328e-02],\n",
       "        [-5.6539e-01],\n",
       "        [ 2.5575e-01],\n",
       "        [-1.5377e+00],\n",
       "        [-1.7961e-01],\n",
       "        [-1.1241e-01],\n",
       "        [ 2.7122e-01],\n",
       "        [-3.3152e-01],\n",
       "        [-2.3632e-01],\n",
       "        [ 2.3215e+00],\n",
       "        [-9.4973e-01],\n",
       "        [ 1.6486e+00],\n",
       "        [-1.9017e+00],\n",
       "        [ 6.1190e-01],\n",
       "        [-5.0207e-01],\n",
       "        [ 9.3322e-01],\n",
       "        [ 7.3425e-01],\n",
       "        [-1.9398e+00],\n",
       "        [-1.7246e+00],\n",
       "        [-1.1871e+00],\n",
       "        [ 2.8150e-01],\n",
       "        [ 2.1720e-01],\n",
       "        [ 6.4778e-01],\n",
       "        [-1.3278e-01],\n",
       "        [-1.1817e+00],\n",
       "        [-5.1945e-01],\n",
       "        [ 3.1375e-01],\n",
       "        [-1.3856e-01],\n",
       "        [-7.2145e-01],\n",
       "        [-6.1804e-01],\n",
       "        [ 8.3080e-01],\n",
       "        [-1.9482e+00],\n",
       "        [-1.3664e+00],\n",
       "        [ 1.3628e+00],\n",
       "        [-8.7944e-01],\n",
       "        [ 2.2037e-01],\n",
       "        [ 7.5574e-02],\n",
       "        [ 1.5742e+00],\n",
       "        [ 1.3541e-01],\n",
       "        [-1.2389e+00],\n",
       "        [-1.1812e+00],\n",
       "        [-1.0318e-01],\n",
       "        [ 1.6807e+00],\n",
       "        [-2.9093e-01],\n",
       "        [-1.9038e-01],\n",
       "        [-4.3973e-01],\n",
       "        [ 8.9013e-01],\n",
       "        [ 4.5068e-01],\n",
       "        [ 8.2047e-01],\n",
       "        [-7.4839e-01],\n",
       "        [ 6.8000e-01],\n",
       "        [-1.4508e-01],\n",
       "        [-1.0368e-02],\n",
       "        [-4.8061e-01],\n",
       "        [-1.6556e-02],\n",
       "        [-6.0004e-01],\n",
       "        [-5.9534e-01],\n",
       "        [-4.3246e-01],\n",
       "        [-7.1259e-01],\n",
       "        [-7.0029e-01],\n",
       "        [ 1.2313e+00],\n",
       "        [ 9.1771e-01],\n",
       "        [-8.5286e-02],\n",
       "        [-1.7139e+00],\n",
       "        [ 3.8805e-01],\n",
       "        [-4.6878e-02],\n",
       "        [-6.6701e-01],\n",
       "        [ 2.8772e-01],\n",
       "        [-8.5422e-01],\n",
       "        [ 7.5001e-01],\n",
       "        [-2.1544e+00],\n",
       "        [-1.8525e-01],\n",
       "        [-3.4355e-01],\n",
       "        [-9.8278e-01],\n",
       "        [ 1.4724e+00],\n",
       "        [ 5.1843e-01],\n",
       "        [ 1.1344e+00],\n",
       "        [-1.1047e+00],\n",
       "        [ 3.9971e-01],\n",
       "        [ 6.0474e-01],\n",
       "        [ 9.9502e-02],\n",
       "        [ 2.1674e-01],\n",
       "        [-7.4463e-01],\n",
       "        [-1.8894e+00],\n",
       "        [ 8.2298e-01],\n",
       "        [-1.4357e-02],\n",
       "        [ 1.0571e+00],\n",
       "        [-1.0370e+00],\n",
       "        [-2.9757e-01],\n",
       "        [-8.5173e-01],\n",
       "        [ 2.8918e-01],\n",
       "        [-8.9324e-01],\n",
       "        [ 1.8647e+00],\n",
       "        [ 5.0715e-02],\n",
       "        [ 1.9659e-02],\n",
       "        [-1.2775e-01],\n",
       "        [ 3.5776e-01],\n",
       "        [-1.1238e+00],\n",
       "        [ 4.6559e-01],\n",
       "        [-3.0510e+00],\n",
       "        [ 8.5078e-01],\n",
       "        [ 5.7983e-01],\n",
       "        [ 2.4295e-01],\n",
       "        [-1.3800e+00],\n",
       "        [-3.6408e-01],\n",
       "        [-1.9835e-01],\n",
       "        [ 5.5466e-01],\n",
       "        [ 2.6536e-01],\n",
       "        [-2.7042e-01],\n",
       "        [ 1.2101e+00],\n",
       "        [-8.5611e-01],\n",
       "        [ 8.9708e-01],\n",
       "        [ 1.0964e+00],\n",
       "        [ 3.7794e-03],\n",
       "        [ 4.1841e-01],\n",
       "        [ 7.4512e-01],\n",
       "        [ 1.9408e-02],\n",
       "        [-4.4265e-01],\n",
       "        [ 1.2388e+00],\n",
       "        [ 1.3957e+00],\n",
       "        [-8.7656e-03],\n",
       "        [ 4.5100e-02],\n",
       "        [ 2.1805e-01],\n",
       "        [ 2.1767e+00],\n",
       "        [ 2.1929e+00],\n",
       "        [-6.4339e-01],\n",
       "        [ 1.6815e+00],\n",
       "        [-8.9847e-01],\n",
       "        [-8.5000e-01],\n",
       "        [-9.5510e-01],\n",
       "        [ 3.3139e-02],\n",
       "        [ 4.1757e-01],\n",
       "        [ 1.9636e+00],\n",
       "        [-9.6477e-01],\n",
       "        [ 7.5937e-01],\n",
       "        [-3.1804e-01],\n",
       "        [ 5.6581e-01],\n",
       "        [ 2.5520e-01],\n",
       "        [-1.1028e+00],\n",
       "        [ 8.2387e-01],\n",
       "        [ 3.5751e-03],\n",
       "        [-1.7264e+00],\n",
       "        [ 2.3051e-01],\n",
       "        [ 3.8822e-01],\n",
       "        [-5.2509e-01],\n",
       "        [-1.2151e-01],\n",
       "        [ 4.1562e-01],\n",
       "        [ 1.0095e+00],\n",
       "        [ 6.8181e-01],\n",
       "        [-7.3001e-01],\n",
       "        [-8.3037e-01],\n",
       "        [-1.5722e+00],\n",
       "        [ 6.4518e-01],\n",
       "        [ 1.7553e-01],\n",
       "        [ 2.9882e-01],\n",
       "        [-6.0177e-01],\n",
       "        [ 1.1091e+00],\n",
       "        [-2.6972e-01],\n",
       "        [-4.3794e-01],\n",
       "        [-5.4044e-01],\n",
       "        [ 4.8842e-01],\n",
       "        [ 1.5679e-01],\n",
       "        [ 1.9906e-01],\n",
       "        [ 6.8680e-01],\n",
       "        [-4.2603e-01],\n",
       "        [-7.5601e-01],\n",
       "        [ 1.7112e-01],\n",
       "        [-1.1433e+00],\n",
       "        [-6.3480e-01],\n",
       "        [ 1.1803e+00],\n",
       "        [ 3.7527e-01],\n",
       "        [ 1.6406e-01],\n",
       "        [-5.8201e-01],\n",
       "        [-6.0776e-01],\n",
       "        [-2.0456e-01],\n",
       "        [ 7.3480e-01],\n",
       "        [ 1.4139e+00],\n",
       "        [-6.9162e-02],\n",
       "        [-2.5020e-01],\n",
       "        [-6.3193e-01],\n",
       "        [-1.0362e-01],\n",
       "        [ 9.8325e-01],\n",
       "        [-2.1118e-01],\n",
       "        [-3.8377e-01],\n",
       "        [-7.6813e-01],\n",
       "        [-1.0034e+00],\n",
       "        [-9.6553e-01],\n",
       "        [ 2.1109e-01],\n",
       "        [-1.4139e+00],\n",
       "        [ 8.9205e-01],\n",
       "        [-3.0398e-01],\n",
       "        [-4.3411e-01],\n",
       "        [ 2.9294e-01],\n",
       "        [ 1.1548e-01],\n",
       "        [-1.7881e-01],\n",
       "        [-9.4050e-02],\n",
       "        [-6.3300e-01],\n",
       "        [ 2.0147e+00],\n",
       "        [ 6.4448e-01],\n",
       "        [-1.0493e+00],\n",
       "        [ 1.0829e+00],\n",
       "        [-9.0567e-01],\n",
       "        [-1.0401e+00],\n",
       "        [ 3.7873e-01],\n",
       "        [-1.7898e-01],\n",
       "        [-6.7519e-01],\n",
       "        [-7.5165e-01],\n",
       "        [-1.2752e+00],\n",
       "        [-9.8071e-01],\n",
       "        [ 7.7802e-01],\n",
       "        [-2.3794e-01],\n",
       "        [-7.6523e-01],\n",
       "        [-8.6415e-01],\n",
       "        [-2.8838e-01],\n",
       "        [-1.0859e+00],\n",
       "        [ 5.7629e-02],\n",
       "        [ 3.5209e-01],\n",
       "        [ 1.0967e+00],\n",
       "        [-9.8828e-01],\n",
       "        [ 1.9996e+00],\n",
       "        [-1.2998e+00],\n",
       "        [-9.0242e-01],\n",
       "        [-2.4198e+00],\n",
       "        [ 1.2205e+00],\n",
       "        [-1.5345e-01],\n",
       "        [-5.1195e-01],\n",
       "        [ 1.1924e-01],\n",
       "        [ 1.4289e+00],\n",
       "        [ 2.0870e+00],\n",
       "        [ 1.0071e+00],\n",
       "        [-1.2568e-01],\n",
       "        [-2.9633e-01],\n",
       "        [ 6.2816e-01],\n",
       "        [ 7.9721e-01],\n",
       "        [ 6.9573e-01],\n",
       "        [-1.8520e-01],\n",
       "        [ 1.9909e-01],\n",
       "        [ 2.0384e-01],\n",
       "        [-7.2481e-01],\n",
       "        [-8.8241e-02],\n",
       "        [-1.1839e+00],\n",
       "        [-2.3502e-01],\n",
       "        [ 6.6807e-01],\n",
       "        [-7.2055e-01],\n",
       "        [ 9.8160e-01],\n",
       "        [ 1.7614e-01],\n",
       "        [ 1.0092e-01],\n",
       "        [ 5.1833e-01],\n",
       "        [ 1.0639e-01],\n",
       "        [-7.0810e-02],\n",
       "        [ 1.8684e-01],\n",
       "        [-1.1356e+00],\n",
       "        [-6.1216e-01],\n",
       "        [ 4.7325e-01],\n",
       "        [ 2.2349e-01],\n",
       "        [ 4.5917e-01],\n",
       "        [ 3.6398e-01],\n",
       "        [ 2.4808e-01],\n",
       "        [-5.7142e-01],\n",
       "        [-1.8830e+00],\n",
       "        [ 1.6258e+00],\n",
       "        [-7.0380e-01],\n",
       "        [ 5.5813e-01],\n",
       "        [ 4.2073e-01],\n",
       "        [ 1.2928e+00],\n",
       "        [-6.2042e-02],\n",
       "        [-7.4470e-02],\n",
       "        [ 1.8145e+00],\n",
       "        [ 4.1260e-01],\n",
       "        [-5.3844e-01],\n",
       "        [-6.6991e-01],\n",
       "        [ 1.3212e-01],\n",
       "        [-4.5546e-01],\n",
       "        [ 7.1002e-01],\n",
       "        [-1.4319e+00],\n",
       "        [ 1.3608e+00],\n",
       "        [ 6.6452e-01],\n",
       "        [-1.9415e-01],\n",
       "        [-1.3719e+00],\n",
       "        [ 1.7688e+00],\n",
       "        [ 1.2300e+00],\n",
       "        [ 2.9569e-01],\n",
       "        [ 8.4007e-01],\n",
       "        [-1.2442e+00],\n",
       "        [-7.0978e-01],\n",
       "        [ 1.1574e+00],\n",
       "        [ 4.0682e-02],\n",
       "        [ 1.1155e+00],\n",
       "        [-1.8691e+00],\n",
       "        [ 1.0895e+00],\n",
       "        [-6.6232e-01],\n",
       "        [-4.4681e-01],\n",
       "        [-6.8173e-01],\n",
       "        [-3.4068e-01],\n",
       "        [ 2.2806e-01]])"
      ]
     },
     "execution_count": 145,
     "metadata": {},
     "output_type": "execute_result"
    }
   ],
   "source": [
    "# one for every pixel\n",
    "weights = init_params((28*28,1))\n",
    "print(weights.shape)\n",
    "weights.data\n"
   ]
  },
  {
   "cell_type": "code",
   "execution_count": 146,
   "id": "38b0c099",
   "metadata": {},
   "outputs": [
    {
     "data": {
      "text/plain": [
       "tensor([-0.6479], requires_grad=True)"
      ]
     },
     "execution_count": 146,
     "metadata": {},
     "output_type": "execute_result"
    }
   ],
   "source": [
    "bias = init_params(1)\n",
    "bias\n"
   ]
  },
  {
   "cell_type": "code",
   "execution_count": 147,
   "id": "c5e9f463",
   "metadata": {},
   "outputs": [
    {
     "data": {
      "text/plain": [
       "tensor([3.5762], grad_fn=<AddBackward0>)"
      ]
     },
     "execution_count": 147,
     "metadata": {},
     "output_type": "execute_result"
    }
   ],
   "source": [
    "# prediction for 1 image\n",
    "(train_x[0]*weights.T).sum() + bias\n"
   ]
  },
  {
   "cell_type": "code",
   "execution_count": 148,
   "id": "db2a8e97",
   "metadata": {},
   "outputs": [
    {
     "data": {
      "text/plain": [
       "(torch.Size([12396, 784]), torch.Size([784, 1]))"
      ]
     },
     "execution_count": 148,
     "metadata": {},
     "output_type": "execute_result"
    }
   ],
   "source": [
    "(train_x.shape, weights.shape)\n"
   ]
  },
  {
   "cell_type": "code",
   "execution_count": 149,
   "id": "c8b6807d",
   "metadata": {},
   "outputs": [
    {
     "data": {
      "text/plain": [
       "tensor([[  3.5762],\n",
       "        [ -3.7747],\n",
       "        [ -7.1949],\n",
       "        ...,\n",
       "        [-17.4559],\n",
       "        [ -5.3980],\n",
       "        [-10.8374]], grad_fn=<AddBackward0>)"
      ]
     },
     "execution_count": 149,
     "metadata": {},
     "output_type": "execute_result"
    }
   ],
   "source": [
    "def linear1(xb): return xb@weights + bias\n",
    "preds = linear1(train_x)\n",
    "preds\n"
   ]
  },
  {
   "cell_type": "code",
   "execution_count": 150,
   "id": "ef65ec43",
   "metadata": {},
   "outputs": [
    {
     "data": {
      "text/plain": [
       "0.6364956498146057"
      ]
     },
     "execution_count": 150,
     "metadata": {},
     "output_type": "execute_result"
    }
   ],
   "source": [
    "corrects = (preds>0.0).float() == train_y\n",
    "corrects.float().mean().item()\n"
   ]
  },
  {
   "cell_type": "code",
   "execution_count": 151,
   "id": "41c3f1aa",
   "metadata": {},
   "outputs": [
    {
     "data": {
      "text/plain": [
       "0.6364956498146057"
      ]
     },
     "execution_count": 151,
     "metadata": {},
     "output_type": "execute_result"
    }
   ],
   "source": [
    "with torch.no_grad(): weights[0] *= 1.0001\n",
    "preds = linear1(train_x)\n",
    "((preds>0.0).float() == train_y).float().mean().item()\n",
    "# small change to weights yields no change in accuracy\n"
   ]
  },
  {
   "cell_type": "markdown",
   "id": "4f2eb178",
   "metadata": {},
   "source": [
    "## Sigmoid"
   ]
  },
  {
   "cell_type": "code",
   "execution_count": 152,
   "id": "1198104c",
   "metadata": {},
   "outputs": [
    {
     "data": {
      "image/png": "[encoded data removed]",
      "text/plain": [
       "<Figure size 600x400 with 1 Axes>"
      ]
     },
     "metadata": {},
     "output_type": "display_data"
    }
   ],
   "source": [
    "plot_function(torch.sigmoid, title='Sigmoid', min=-4, max=4)\n"
   ]
  },
  {
   "cell_type": "code",
   "execution_count": 153,
   "id": "4fd8c735",
   "metadata": {},
   "outputs": [],
   "source": [
    "def mnist_loss(predictions, targets):\n",
    "  predictions = predictions.sigmoid()\n",
    "  return torch.where(targets==1, 1-predictions, predictions).mean()\n"
   ]
  },
  {
   "cell_type": "markdown",
   "id": "eb328a29",
   "metadata": {},
   "source": [
    "### Putting It All Together"
   ]
  },
  {
   "cell_type": "code",
   "execution_count": 154,
   "id": "e1393b77",
   "metadata": {},
   "outputs": [
    {
     "data": {
      "text/plain": [
       "(torch.Size([784, 1]), torch.Size([1]))"
      ]
     },
     "execution_count": 154,
     "metadata": {},
     "output_type": "execute_result"
    }
   ],
   "source": [
    "from fastai.data.load import DataLoader\n",
    "\n",
    "# initialize parameters\n",
    "weights = init_params((28*28,1))\n",
    "bias = init_params(1)\n",
    "\n",
    "weights.shape, bias.shape\n"
   ]
  },
  {
   "cell_type": "code",
   "execution_count": 155,
   "id": "6252179b",
   "metadata": {},
   "outputs": [],
   "source": [
    "# from fastcore.basics import first\n",
    "\n",
    "# create dataloaders\n",
    "dl = DataLoader(dset, batch_size=256)\n",
    "valid_dl = DataLoader(valid_dset, batch_size=256)\n"
   ]
  },
  {
   "cell_type": "code",
   "execution_count": 156,
   "id": "fa663522",
   "metadata": {},
   "outputs": [
    {
     "data": {
      "text/plain": [
       "tensor([[-7.1094],\n",
       "        [-3.4319],\n",
       "        [-7.7986],\n",
       "        [-6.1509]], grad_fn=<AddBackward0>)"
      ]
     },
     "metadata": {},
     "output_type": "display_data"
    },
    {
     "data": {
      "text/plain": [
       "tensor(0.9913, grad_fn=<MeanBackward0>)"
      ]
     },
     "metadata": {},
     "output_type": "display_data"
    },
    {
     "data": {
      "text/plain": [
       "(torch.Size([784, 1]), tensor(-0.0012), tensor([-0.0084]))"
      ]
     },
     "execution_count": 156,
     "metadata": {},
     "output_type": "execute_result"
    }
   ],
   "source": [
    "# test with mini-batch of size 4\n",
    "preds = linear1(train_x[:4])\n",
    "display(preds)\n",
    "loss = mnist_loss(preds, train_y[:4])\n",
    "display(loss)\n",
    "loss.backward()\n",
    "weights.grad.shape, weights.grad.mean(), bias.grad\n",
    "\n",
    "# NOTE HERE\n"
   ]
  },
  {
   "cell_type": "code",
   "execution_count": 157,
   "id": "636c4e54",
   "metadata": {},
   "outputs": [
    {
     "data": {
      "text/plain": [
       "tensor([[1],\n",
       "        [1],\n",
       "        [1],\n",
       "        [1]])"
      ]
     },
     "execution_count": 157,
     "metadata": {},
     "output_type": "execute_result"
    }
   ],
   "source": [
    "train_y[:4]\n"
   ]
  },
  {
   "cell_type": "code",
   "execution_count": 158,
   "id": "64a3e001",
   "metadata": {},
   "outputs": [
    {
     "data": {
      "text/plain": [
       "(tensor(-0.0024), tensor([-0.0168]))"
      ]
     },
     "execution_count": 158,
     "metadata": {},
     "output_type": "execute_result"
    }
   ],
   "source": [
    "# putting it into a fn\n",
    "def calc_grad(xb, yb, model):\n",
    "  preds = model(xb)\n",
    "  loss = mnist_loss(preds, yb)\n",
    "  loss.backward()\n",
    "\n",
    "calc_grad(train_x[:4], train_y[:4], linear1)\n",
    "weights.grad.mean(), bias.grad\n"
   ]
  },
  {
   "cell_type": "code",
   "execution_count": 159,
   "id": "946963a4",
   "metadata": {},
   "outputs": [
    {
     "data": {
      "text/plain": [
       "(tensor(-0.0037), tensor([-0.0253]))"
      ]
     },
     "execution_count": 159,
     "metadata": {},
     "output_type": "execute_result"
    }
   ],
   "source": [
    "calc_grad(train_x[:4], train_y[:4], linear1)\n",
    "weights.grad.mean(),bias.grad\n"
   ]
  },
  {
   "cell_type": "code",
   "execution_count": 160,
   "id": "5579f548",
   "metadata": {},
   "outputs": [
    {
     "data": {
      "text/plain": [
       "(tensor(-0.0049), tensor([-0.0337]))"
      ]
     },
     "execution_count": 160,
     "metadata": {},
     "output_type": "execute_result"
    }
   ],
   "source": [
    "calc_grad(train_x[:4], train_y[:4], linear1)\n",
    "weights.grad.mean(),bias.grad\n"
   ]
  },
  {
   "cell_type": "code",
   "execution_count": null,
   "id": "2e76efd6",
   "metadata": {},
   "outputs": [],
   "source": []
  }
 ],
 "metadata": {
  "kernelspec": {
   "display_name": "Python 3 (ipykernel)",
   "language": "python",
   "name": "python3"
  }
 },
 "nbformat": 4,
 "nbformat_minor": 5
}
